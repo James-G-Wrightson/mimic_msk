{
 "cells": [
  {
   "cell_type": "markdown",
   "metadata": {},
   "source": [
    "In this notebook, we analyze the proprotions of ED vists for avoidable MSK conditions"
   ]
  },
  {
   "cell_type": "code",
   "execution_count": 2,
   "metadata": {},
   "outputs": [
    {
     "name": "stdout",
     "output_type": "stream",
     "text": [
      "Loading required package: pacman\n"
     ]
    }
   ],
   "source": [
    "if(!require(\"pacman\")) install.packages(\"pacman\")\n",
    "pacman::p_load(tidyverse, janitor, arrow, readxl, pairwiseCI, patchwork, svglite, ggupset, ggsci)"
   ]
  },
  {
   "cell_type": "markdown",
   "metadata": {},
   "source": [
    "# Data"
   ]
  },
  {
   "cell_type": "code",
   "execution_count": 2,
   "metadata": {},
   "outputs": [
    {
     "name": "stdout",
     "output_type": "stream",
     "text": [
      "\u001b[1m\u001b[22mNew names:\n",
      "\u001b[36m•\u001b[39m `` -> `...1`\n"
     ]
    }
   ],
   "source": [
    "# MIMIC data\n",
    "ed_data <- read_parquet(\n",
    "     \"../MIMICED/ed_join_cc.parquet\"\n",
    "    ) |>\n",
    "    filter(icd_version==10, !is.na(age), age >= 19)  |> \n",
    "    distinct(subject_id, stay_id, .keep_all = T) |> \n",
    "    collect()\n",
    "\n",
    "#ICD codes\n",
    "mcodes <- read_csv(\n",
    "    \"mcodes.csv\",\n",
    "    show_col_types = F\n",
    "    )\n",
    "power_codes <- read_csv(\n",
    "    \"power_cms.csv\",\n",
    "    show_col_types = F\n",
    ") \n",
    "hwa_codes <- read_csv(\n",
    "    \"hwa_joined.csv\",\n",
    "    show_col_types = F\n",
    ")\n",
    "\n",
    "ed_data <- ed_data |> \n",
    "    mutate(\n",
    "        mcode = as.integer(primary_code %in% mcodes$cms_code),\n",
    "        power = as.integer(primary_code %in% power_codes$cms_code),\n",
    "        hwa = as.integer(primary_code %in% hwa_codes$cms_code),\n",
    "        # add the nyu and res columns\n",
    "        nyu_mcode = as.integer(mcode == 1 & nyu == 1),\n",
    "        nyu_power = as.integer(power == 1 & nyu == 1),\n",
    "        nyu_hwa = as.integer(hwa == 1 & nyu == 1),\n",
    "        code_letter = str_sub(primary_code, 1, 1),\n",
    "    )   |> \n",
    "    arrow_table()"
   ]
  },
  {
   "cell_type": "code",
   "execution_count": 3,
   "metadata": {},
   "outputs": [],
   "source": [
    "# California data\n",
    "cali_df  <- read_parquet(\"cali_df.parquet\")\n",
    "nyu_10  <- read_excel(\n",
    "    \"NYU ED Algorithm - ICD10 Codes - Updated 2.4.25.xlsx\"\n",
    "    ) |> \n",
    "    clean_names()  |> \n",
    "    rename(\n",
    "        code = icd10,\n",
    "        emergent_pc = emergent_pc_treatable\n",
    "    ) |> \n",
    "    mutate(\n",
    "        nyu_sum = map2_dbl(non_emergent, emergent_pc, ~sum(.x,.y)),\n",
    "        nyu = if_else(nyu_sum>0.5, true = 1, false = 0)\n",
    "    ) |> \n",
    "    filter(nyu==1)\n",
    "cali_df <- cali_df |> \n",
    "    mutate(\n",
    "        all = 1,\n",
    "        mcode = as.integer(icd_code %in% mcodes$cms_code),\n",
    "        power = as.integer(icd_code %in% power_codes$cms_code),\n",
    "        hwa = as.integer(icd_code %in% hwa_codes$cms_code),\n",
    "        nyu = as.integer(icd_code %in% nyu_10$code),\n",
    "        nyu_mcode = as.integer(nyu==1 & mcode==1),\n",
    "        nyu_power = as.integer(nyu==1 & power==1),\n",
    "        nyu_hwa = as.integer(nyu==1 & hwa==1),\n",
    "       code_letter = str_sub(icd_code, 1, 1)\n",
    "    ) \n"
   ]
  },
  {
   "cell_type": "markdown",
   "metadata": {},
   "source": [
    "# Codes Analysis"
   ]
  },
  {
   "cell_type": "markdown",
   "metadata": {},
   "source": [
    "# Data Analysis"
   ]
  },
  {
   "cell_type": "markdown",
   "metadata": {},
   "source": [
    "### MIMIC dataset\n",
    "\n"
   ]
  },
  {
   "cell_type": "markdown",
   "metadata": {},
   "source": [
    "Number of visits"
   ]
  },
  {
   "cell_type": "code",
   "execution_count": 4,
   "metadata": {},
   "outputs": [
    {
     "name": "stdout",
     "output_type": "stream",
     "text": [
      "[1] 220352\n"
     ]
    }
   ],
   "source": [
    "rows <- nrow(ed_data |>collect() )\n",
    "print(rows)"
   ]
  },
  {
   "cell_type": "markdown",
   "metadata": {},
   "source": [
    "Number of Distinct patients"
   ]
  },
  {
   "cell_type": "code",
   "execution_count": 5,
   "metadata": {},
   "outputs": [
    {
     "name": "stdout",
     "output_type": "stream",
     "text": [
      "\u001b[38;5;246m# A tibble: 1 × 1\u001b[39m\n",
      "       n\n",
      "   \u001b[3m\u001b[38;5;246m<int>\u001b[39m\u001b[23m\n",
      "\u001b[38;5;250m1\u001b[39m \u001b[4m1\u001b[24m\u001b[4m2\u001b[24m\u001b[4m1\u001b[24m088\n"
     ]
    }
   ],
   "source": [
    "print(ed_data |> \n",
    "    distinct(subject_id) |> \n",
    "    count() |> \n",
    "    collect())"
   ]
  },
  {
   "cell_type": "markdown",
   "metadata": {},
   "source": [
    "Highest n visits by one patient"
   ]
  },
  {
   "cell_type": "code",
   "execution_count": 6,
   "metadata": {},
   "outputs": [
    {
     "name": "stdout",
     "output_type": "stream",
     "text": [
      "\u001b[38;5;246m# A tibble: 1 × 1\u001b[39m\n",
      "  visits\n",
      "   \u001b[3m\u001b[38;5;246m<int>\u001b[39m\u001b[23m\n",
      "\u001b[38;5;250m1\u001b[39m    252\n"
     ]
    }
   ],
   "source": [
    "ed_data |> \n",
    "    group_by(subject_id) |> \n",
    "    summarise(visits = n()) |> \n",
    "    arrange(desc(visits)) |> \n",
    "    slice_head(n = 1) |> \n",
    "    collect() |> \n",
    "    select(visits) |> \n",
    "    print()"
   ]
  },
  {
   "cell_type": "markdown",
   "metadata": {},
   "source": [
    "Age"
   ]
  },
  {
   "cell_type": "code",
   "execution_count": 7,
   "metadata": {},
   "outputs": [
    {
     "name": "stdout",
     "output_type": "stream",
     "text": [
      "\u001b[38;5;246m# A tibble: 1 × 2\u001b[39m\n",
      "  median_age iqr_age\n",
      "       \u001b[3m\u001b[38;5;246m<dbl>\u001b[39m\u001b[23m   \u001b[3m\u001b[38;5;246m<dbl>\u001b[39m\u001b[23m\n",
      "\u001b[38;5;250m1\u001b[39m         55      34\n"
     ]
    }
   ],
   "source": [
    "print(ed_data |> \n",
    "    dplyr::select(age) |> \n",
    "    collect() |> \n",
    "    summarise(\n",
    "        median_age = round(median(age)),\n",
    "        iqr_age = IQR(age)\n",
    "    ))\n"
   ]
  },
  {
   "cell_type": "markdown",
   "metadata": {},
   "source": [
    "Gender"
   ]
  },
  {
   "cell_type": "code",
   "execution_count": 8,
   "metadata": {},
   "outputs": [
    {
     "name": "stdout",
     "output_type": "stream",
     "text": [
      "\u001b[38;5;246m# A tibble: 2 × 3\u001b[39m\n",
      "\u001b[38;5;246m# Groups:   gender [2]\u001b[39m\n",
      "  gender      n   `%`\n",
      "  \u001b[3m\u001b[38;5;246m<chr>\u001b[39m\u001b[23m   \u001b[3m\u001b[38;5;246m<int>\u001b[39m\u001b[23m \u001b[3m\u001b[38;5;246m<dbl>\u001b[39m\u001b[23m\n",
      "\u001b[38;5;250m1\u001b[39m M      \u001b[4m1\u001b[24m\u001b[4m0\u001b[24m\u001b[4m2\u001b[24m083    46\n",
      "\u001b[38;5;250m2\u001b[39m F      \u001b[4m1\u001b[24m\u001b[4m1\u001b[24m\u001b[4m8\u001b[24m269    54\n"
     ]
    }
   ],
   "source": [
    "print(ed_data |> \n",
    "    group_by(gender) |>\n",
    "    count() |>\n",
    "    mutate(\"%\" = round(n/rows*100)) |>\n",
    "    collect())"
   ]
  },
  {
   "cell_type": "markdown",
   "metadata": {},
   "source": [
    "Unclassified"
   ]
  },
  {
   "cell_type": "code",
   "execution_count": 9,
   "metadata": {},
   "outputs": [
    {
     "name": "stdout",
     "output_type": "stream",
     "text": [
      "[1] \"all\"\n",
      "\u001b[38;5;246m# A tibble: 1 × 1\u001b[39m\n",
      "      n\n",
      "  \u001b[3m\u001b[38;5;246m<int>\u001b[39m\u001b[23m\n",
      "\u001b[38;5;250m1\u001b[39m  \u001b[4m2\u001b[24m964\n",
      "[1] \"mcode\"\n",
      "\u001b[38;5;246m# A tibble: 1 × 1\u001b[39m\n",
      "      n\n",
      "  \u001b[3m\u001b[38;5;246m<int>\u001b[39m\u001b[23m\n",
      "\u001b[38;5;250m1\u001b[39m   492\n",
      "[1] \"power\"\n",
      "\u001b[38;5;246m# A tibble: 1 × 1\u001b[39m\n",
      "      n\n",
      "  \u001b[3m\u001b[38;5;246m<int>\u001b[39m\u001b[23m\n",
      "\u001b[38;5;250m1\u001b[39m   479\n",
      "[1] \"hwa\"\n",
      "\u001b[38;5;246m# A tibble: 1 × 1\u001b[39m\n",
      "      n\n",
      "  \u001b[3m\u001b[38;5;246m<int>\u001b[39m\u001b[23m\n",
      "\u001b[38;5;250m1\u001b[39m   107\n"
     ]
    }
   ],
   "source": [
    "unlcass <- function(colname){\n",
    "  print(deparse(substitute(colname)))\n",
    "  ed_data |> \n",
    "    collect() |>\n",
    "    mutate(all =1) |> \n",
    "    select(unclassified, col = {{colname}}, primary_code) |> \n",
    "    filter(unclassified == 1, col == 1) |>\n",
    "    distinct(primary_code) |>\n",
    "    count() |> \n",
    "    print()\n",
    "}\n",
    "unlcass(all)\n",
    "unlcass(mcode)\n",
    "unlcass(power)\n",
    "unlcass(hwa)"
   ]
  },
  {
   "cell_type": "markdown",
   "metadata": {},
   "source": [
    "## HCAI dataset"
   ]
  },
  {
   "cell_type": "code",
   "execution_count": 10,
   "metadata": {},
   "outputs": [
    {
     "name": "stdout",
     "output_type": "stream",
     "text": [
      "[1] \"Total visits =  54059693\"\n"
     ]
    }
   ],
   "source": [
    "total_cases <-  sum(cali_df$primary_count)\n",
    "print(paste(\"Total visits = \",total_cases))"
   ]
  },
  {
   "cell_type": "markdown",
   "metadata": {},
   "source": [
    "## Proportions Analysis"
   ]
  },
  {
   "cell_type": "markdown",
   "metadata": {},
   "source": [
    "### MIMIC"
   ]
  },
  {
   "cell_type": "markdown",
   "metadata": {},
   "source": [
    "#### Functions"
   ]
  },
  {
   "cell_type": "code",
   "execution_count": 11,
   "metadata": {},
   "outputs": [],
   "source": [
    "contingency_f <- function(mcode_col, power_col, hwa_col){\n",
    "  data <- ed_data |> \n",
    "    select(\n",
    "      mcode = {{mcode_col}}, \n",
    "      power = {{power_col}}, \n",
    "      hwa = {{hwa_col}}) |>\n",
    "      collect() |> \n",
    "      mutate(across(everything(), ~ case_when(\n",
    "        .x == 1 ~ \"In List\",\n",
    "        .x == 0 ~ \"Not in List\"\n",
    "          )\n",
    "        )\n",
    "      ) \n",
    "  cat(\"\\nmcode vs power:\")\n",
    "  data |> \n",
    "    select(mcode, power) |> \n",
    "    table() |> \n",
    "    print()\n",
    "  \n",
    "  cat(\"\\nmcode vs hwa:\")\n",
    "  data |> \n",
    "    select(mcode, hwa) |> \n",
    "    table() |> \n",
    "    print()\n",
    "  \n",
    "  cat(\"\\npower vs hwa:\")\n",
    "  data |> \n",
    "    select(power, hwa) |> \n",
    "    table() |> \n",
    "    print()\n",
    "}"
   ]
  },
  {
   "cell_type": "code",
   "execution_count": 12,
   "metadata": {},
   "outputs": [],
   "source": [
    "# Proportions function\n",
    "prop_f <- function(df, col_name){\n",
    "    cat(\"\\n\")\n",
    "    print(deparse(substitute(col_name)))\n",
    "    print(df |> \n",
    "        filter({{col_name}} == 1)  |> \n",
    "        collect() |> \n",
    "        count() |> \n",
    "        mutate(`%` = round(n/nrow(df)*100,2)))\n",
    "\n",
    "}"
   ]
  },
  {
   "cell_type": "code",
   "execution_count": 13,
   "metadata": {},
   "outputs": [],
   "source": [
    "# Difference in proprtions function\n",
    "diff_function <- function(cols_in){\n",
    "  m <- ed_data |> select(code = !!sym(cols_in[[1]]))  |> mutate(g = \"mcode\") |> collect()\n",
    "  p <- ed_data |> select(code = !!sym(cols_in[[2]])) |>mutate(g = \"power\")|> collect()\n",
    "  h <-  ed_data |> select(code = !!sym(cols_in[[3]]))  |>mutate(g = \"hwa\")|> collect()\n",
    "  print(paste(\"Mean Mcode:\", round(mean(m$code)*100,2)))\n",
    "  cat(\"\\n\")\n",
    "  print(paste(\"Mean power:\", round(mean(p$code)*100,2)))\n",
    "  cat(\"\\n\")\n",
    "  print(paste(\"Mean hwa:\",round(mean(h$code)*100,2)))\n",
    "  mat_p <- bind_rows(m,p,h) |> mutate(g = factor(g))\n",
    "  result  <- pairwiseCI(code ~ g, data = mat_p, method=\"Param.diff\")$byout[[1]]\n",
    "  df <- tibble(\n",
    "    comp = result$compnames,\n",
    "    estimate = result$estimate[result$compnames],\n",
    "    lower = result$lower[result$compnames],\n",
    "    upper = result$upper[result$compnames]\n",
    "  ) |> \n",
    "  mutate(across(c(estimate, lower, upper), ~ round(.x *100, 2)))\n",
    "  cat(\"\\nCIs\")\n",
    "  print(df)\n",
    "}"
   ]
  },
  {
   "cell_type": "code",
   "execution_count": 14,
   "metadata": {},
   "outputs": [],
   "source": [
    "letter_function <- function(df, col_name){\n",
    "  cat(\"\\n\")\n",
    "  print(deparse(substitute(col_name)))\n",
    "  df |> \n",
    "    mutate(all=1) |>\n",
    "    filter({{col_name}} == 1)  |> \n",
    "    collect() |> \n",
    "    group_by(code_letter) |>\n",
    "    count() |> \n",
    "    mutate(`%` = round(n/nrow(df)*100,2)) |> \n",
    "    arrange(desc(n)) |> \n",
    "    print()\n",
    "}"
   ]
  },
  {
   "cell_type": "markdown",
   "metadata": {},
   "source": [
    "#### Contingency"
   ]
  },
  {
   "cell_type": "markdown",
   "metadata": {},
   "source": [
    "All ED visits"
   ]
  },
  {
   "cell_type": "code",
   "execution_count": 15,
   "metadata": {},
   "outputs": [
    {
     "name": "stdout",
     "output_type": "stream",
     "text": [
      "\n",
      "mcode vs power:             power\n",
      "mcode         In List Not in List\n",
      "  In List       17383         110\n",
      "  Not in List    9183      193676\n",
      "\n",
      "mcode vs hwa:             hwa\n",
      "mcode         In List Not in List\n",
      "  In List       14105        3388\n",
      "  Not in List   17605      185254\n",
      "\n",
      "power vs hwa:             hwa\n",
      "power         In List Not in List\n",
      "  In List       19787        6779\n",
      "  Not in List   11923      181863\n"
     ]
    }
   ],
   "source": [
    "contingency_f(mcode, power, hwa)"
   ]
  },
  {
   "cell_type": "markdown",
   "metadata": {},
   "source": [
    "Redirectable"
   ]
  },
  {
   "cell_type": "code",
   "execution_count": 16,
   "metadata": {},
   "outputs": [
    {
     "name": "stdout",
     "output_type": "stream",
     "text": [
      "\n",
      "mcode vs power:             power\n",
      "mcode         In List Not in List\n",
      "  In List       13808          20\n",
      "  Not in List       3      206521\n",
      "\n",
      "mcode vs hwa:             hwa\n",
      "mcode         In List Not in List\n",
      "  In List       12406        1422\n",
      "  Not in List    5085      201439\n",
      "\n",
      "power vs hwa:             hwa\n",
      "power         In List Not in List\n",
      "  In List       12408        1403\n",
      "  Not in List    5083      201458\n"
     ]
    }
   ],
   "source": [
    "contingency_f(nyu_mcode, nyu_power, nyu_hwa)"
   ]
  },
  {
   "cell_type": "markdown",
   "metadata": {},
   "source": [
    "#### Proportions"
   ]
  },
  {
   "cell_type": "markdown",
   "metadata": {},
   "source": [
    "##### All ED visits"
   ]
  },
  {
   "cell_type": "code",
   "execution_count": 17,
   "metadata": {},
   "outputs": [
    {
     "name": "stdout",
     "output_type": "stream",
     "text": [
      "\n",
      "[1] \"mcode\"\n",
      "\u001b[38;5;246m# A tibble: 1 × 2\u001b[39m\n",
      "      n   `%`\n",
      "  \u001b[3m\u001b[38;5;246m<int>\u001b[39m\u001b[23m \u001b[3m\u001b[38;5;246m<dbl>\u001b[39m\u001b[23m\n",
      "\u001b[38;5;250m1\u001b[39m \u001b[4m1\u001b[24m\u001b[4m7\u001b[24m493  7.94\n",
      "\n",
      "[1] \"power\"\n",
      "\u001b[38;5;246m# A tibble: 1 × 2\u001b[39m\n",
      "      n   `%`\n",
      "  \u001b[3m\u001b[38;5;246m<int>\u001b[39m\u001b[23m \u001b[3m\u001b[38;5;246m<dbl>\u001b[39m\u001b[23m\n",
      "\u001b[38;5;250m1\u001b[39m \u001b[4m2\u001b[24m\u001b[4m6\u001b[24m566  12.1\n",
      "\n",
      "[1] \"hwa\"\n",
      "\u001b[38;5;246m# A tibble: 1 × 2\u001b[39m\n",
      "      n   `%`\n",
      "  \u001b[3m\u001b[38;5;246m<int>\u001b[39m\u001b[23m \u001b[3m\u001b[38;5;246m<dbl>\u001b[39m\u001b[23m\n",
      "\u001b[38;5;250m1\u001b[39m \u001b[4m3\u001b[24m\u001b[4m1\u001b[24m710  14.4\n"
     ]
    }
   ],
   "source": [
    "prop_f(ed_data,mcode)\n",
    "prop_f(ed_data,power)\n",
    "prop_f(ed_data,hwa)"
   ]
  },
  {
   "cell_type": "code",
   "execution_count": 18,
   "metadata": {},
   "outputs": [
    {
     "name": "stdout",
     "output_type": "stream",
     "text": [
      "\n",
      "[1] \"all\"\n",
      "\u001b[38;5;246m# A tibble: 22 × 3\u001b[39m\n",
      "\u001b[38;5;246m# Groups:   code_letter [22]\u001b[39m\n",
      "   code_letter     n   `%`\n",
      "   \u001b[3m\u001b[38;5;246m<chr>\u001b[39m\u001b[23m       \u001b[3m\u001b[38;5;246m<int>\u001b[39m\u001b[23m \u001b[3m\u001b[38;5;246m<dbl>\u001b[39m\u001b[23m\n",
      "\u001b[38;5;250m 1\u001b[39m R           \u001b[4m5\u001b[24m\u001b[4m1\u001b[24m838 23.5 \n",
      "\u001b[38;5;250m 2\u001b[39m S           \u001b[4m2\u001b[24m\u001b[4m7\u001b[24m032 12.3 \n",
      "\u001b[38;5;250m 3\u001b[39m K           \u001b[4m1\u001b[24m\u001b[4m8\u001b[24m589  8.44\n",
      "\u001b[38;5;250m 4\u001b[39m I           \u001b[4m1\u001b[24m\u001b[4m8\u001b[24m408  8.35\n",
      "\u001b[38;5;250m 5\u001b[39m M           \u001b[4m1\u001b[24m\u001b[4m7\u001b[24m493  7.94\n",
      "\u001b[38;5;250m 6\u001b[39m F           \u001b[4m1\u001b[24m\u001b[4m5\u001b[24m159  6.88\n",
      "\u001b[38;5;250m 7\u001b[39m J           \u001b[4m1\u001b[24m\u001b[4m2\u001b[24m077  5.48\n",
      "\u001b[38;5;250m 8\u001b[39m N           \u001b[4m1\u001b[24m\u001b[4m0\u001b[24m150  4.61\n",
      "\u001b[38;5;250m 9\u001b[39m T            \u001b[4m9\u001b[24m199  4.17\n",
      "\u001b[38;5;250m10\u001b[39m G            \u001b[4m6\u001b[24m479  2.94\n",
      "\u001b[38;5;246m# ℹ 12 more rows\u001b[39m\n",
      "\u001b[38;5;246m# ℹ Use `print(n = ...)` to see more rows\u001b[39m\n",
      "\n",
      "[1] \"mcode\"\n",
      "\u001b[38;5;246m# A tibble: 1 × 3\u001b[39m\n",
      "\u001b[38;5;246m# Groups:   code_letter [1]\u001b[39m\n",
      "  code_letter     n   `%`\n",
      "  \u001b[3m\u001b[38;5;246m<chr>\u001b[39m\u001b[23m       \u001b[3m\u001b[38;5;246m<int>\u001b[39m\u001b[23m \u001b[3m\u001b[38;5;246m<dbl>\u001b[39m\u001b[23m\n",
      "\u001b[38;5;250m1\u001b[39m M           \u001b[4m1\u001b[24m\u001b[4m7\u001b[24m493  7.94\n",
      "\n",
      "[1] \"power\"\n",
      "\u001b[38;5;246m# A tibble: 2 × 3\u001b[39m\n",
      "\u001b[38;5;246m# Groups:   code_letter [2]\u001b[39m\n",
      "  code_letter     n   `%`\n",
      "  \u001b[3m\u001b[38;5;246m<chr>\u001b[39m\u001b[23m       \u001b[3m\u001b[38;5;246m<int>\u001b[39m\u001b[23m \u001b[3m\u001b[38;5;246m<dbl>\u001b[39m\u001b[23m\n",
      "\u001b[38;5;250m1\u001b[39m M           \u001b[4m1\u001b[24m\u001b[4m7\u001b[24m383  7.89\n",
      "\u001b[38;5;250m2\u001b[39m S            \u001b[4m9\u001b[24m183  4.17\n",
      "\n",
      "[1] \"hwa\"\n",
      "\u001b[38;5;246m# A tibble: 7 × 3\u001b[39m\n",
      "\u001b[38;5;246m# Groups:   code_letter [7]\u001b[39m\n",
      "  code_letter     n   `%`\n",
      "  \u001b[3m\u001b[38;5;246m<chr>\u001b[39m\u001b[23m       \u001b[3m\u001b[38;5;246m<int>\u001b[39m\u001b[23m \u001b[3m\u001b[38;5;246m<dbl>\u001b[39m\u001b[23m\n",
      "\u001b[38;5;250m1\u001b[39m M           \u001b[4m1\u001b[24m\u001b[4m4\u001b[24m105  6.4 \n",
      "\u001b[38;5;250m2\u001b[39m S           \u001b[4m1\u001b[24m\u001b[4m2\u001b[24m056  5.47\n",
      "\u001b[38;5;250m3\u001b[39m R            \u001b[4m4\u001b[24m851  2.2 \n",
      "\u001b[38;5;250m4\u001b[39m G             635  0.29\n",
      "\u001b[38;5;250m5\u001b[39m T              40  0.02\n",
      "\u001b[38;5;250m6\u001b[39m I              22  0.01\n",
      "\u001b[38;5;250m7\u001b[39m D               1  0   \n"
     ]
    }
   ],
   "source": [
    "letter_function(ed_data, all)\n",
    "letter_function(ed_data, mcode)\n",
    "letter_function(ed_data, power)\n",
    "letter_function(ed_data, hwa)"
   ]
  },
  {
   "cell_type": "markdown",
   "metadata": {},
   "source": [
    "Differences"
   ]
  },
  {
   "cell_type": "code",
   "execution_count": 19,
   "metadata": {},
   "outputs": [
    {
     "name": "stdout",
     "output_type": "stream",
     "text": [
      "[1] \"Mean Mcode: 7.94\"\n",
      "\n",
      "[1] \"Mean power: 12.06\"\n",
      "\n",
      "[1] \"Mean hwa: 14.39\"\n",
      "\n",
      "CIs\u001b[38;5;246m# A tibble: 3 × 4\u001b[39m\n",
      "  comp        estimate lower upper\n",
      "  \u001b[3m\u001b[38;5;246m<chr>\u001b[39m\u001b[23m          \u001b[3m\u001b[38;5;246m<dbl>\u001b[39m\u001b[23m \u001b[3m\u001b[38;5;246m<dbl>\u001b[39m\u001b[23m \u001b[3m\u001b[38;5;246m<dbl>\u001b[39m\u001b[23m\n",
      "\u001b[38;5;250m1\u001b[39m mcode-hwa      -\u001b[31m6\u001b[39m\u001b[31m.\u001b[39m\u001b[31m45\u001b[39m -\u001b[31m6\u001b[39m\u001b[31m.\u001b[39m\u001b[31m64\u001b[39m -\u001b[31m6\u001b[39m\u001b[31m.\u001b[39m\u001b[31m27\u001b[39m\n",
      "\u001b[38;5;250m2\u001b[39m power-hwa      -\u001b[31m2\u001b[39m\u001b[31m.\u001b[39m\u001b[31m33\u001b[39m -\u001b[31m2\u001b[39m\u001b[31m.\u001b[39m\u001b[31m53\u001b[39m -\u001b[31m2\u001b[39m\u001b[31m.\u001b[39m\u001b[31m13\u001b[39m\n",
      "\u001b[38;5;250m3\u001b[39m power-mcode     4.12  3.94  4.29\n"
     ]
    }
   ],
   "source": [
    "cols_in <- c(\"mcode\", \"power\", \"hwa\")\n",
    "diff_function(cols_in)"
   ]
  },
  {
   "cell_type": "markdown",
   "metadata": {},
   "source": [
    "##### Potentially Avoidable Visits"
   ]
  },
  {
   "cell_type": "code",
   "execution_count": 20,
   "metadata": {},
   "outputs": [
    {
     "name": "stdout",
     "output_type": "stream",
     "text": [
      "\n",
      "[1] \"nyu\"\n",
      "\u001b[38;5;246m# A tibble: 1 × 2\u001b[39m\n",
      "      n   `%`\n",
      "  \u001b[3m\u001b[38;5;246m<int>\u001b[39m\u001b[23m \u001b[3m\u001b[38;5;246m<dbl>\u001b[39m\u001b[23m\n",
      "\u001b[38;5;250m1\u001b[39m \u001b[4m7\u001b[24m\u001b[4m6\u001b[24m481  34.7\n",
      "\n",
      "[1] \"nyu_mcode\"\n",
      "\u001b[38;5;246m# A tibble: 1 × 2\u001b[39m\n",
      "      n   `%`\n",
      "  \u001b[3m\u001b[38;5;246m<int>\u001b[39m\u001b[23m \u001b[3m\u001b[38;5;246m<dbl>\u001b[39m\u001b[23m\n",
      "\u001b[38;5;250m1\u001b[39m \u001b[4m1\u001b[24m\u001b[4m3\u001b[24m828  6.28\n",
      "\n",
      "[1] \"nyu_power\"\n",
      "\u001b[38;5;246m# A tibble: 1 × 2\u001b[39m\n",
      "      n   `%`\n",
      "  \u001b[3m\u001b[38;5;246m<int>\u001b[39m\u001b[23m \u001b[3m\u001b[38;5;246m<dbl>\u001b[39m\u001b[23m\n",
      "\u001b[38;5;250m1\u001b[39m \u001b[4m1\u001b[24m\u001b[4m3\u001b[24m811  6.27\n",
      "\n",
      "[1] \"nyu_hwa\"\n",
      "\u001b[38;5;246m# A tibble: 1 × 2\u001b[39m\n",
      "      n   `%`\n",
      "  \u001b[3m\u001b[38;5;246m<int>\u001b[39m\u001b[23m \u001b[3m\u001b[38;5;246m<dbl>\u001b[39m\u001b[23m\n",
      "\u001b[38;5;250m1\u001b[39m \u001b[4m1\u001b[24m\u001b[4m7\u001b[24m491  7.94\n"
     ]
    }
   ],
   "source": [
    "prop_f(ed_data, nyu)\n",
    "prop_f(ed_data,nyu_mcode)\n",
    "prop_f(ed_data,nyu_power)\n",
    "prop_f(ed_data,nyu_hwa)"
   ]
  },
  {
   "cell_type": "code",
   "execution_count": 21,
   "metadata": {},
   "outputs": [
    {
     "name": "stdout",
     "output_type": "stream",
     "text": [
      "\n",
      "[1] \"nyu\"\n",
      "\u001b[38;5;246m# A tibble: 18 × 3\u001b[39m\n",
      "\u001b[38;5;246m# Groups:   code_letter [18]\u001b[39m\n",
      "   code_letter     n   `%`\n",
      "   \u001b[3m\u001b[38;5;246m<chr>\u001b[39m\u001b[23m       \u001b[3m\u001b[38;5;246m<int>\u001b[39m\u001b[23m \u001b[3m\u001b[38;5;246m<dbl>\u001b[39m\u001b[23m\n",
      "\u001b[38;5;250m 1\u001b[39m R           \u001b[4m3\u001b[24m\u001b[4m4\u001b[24m054 15.4 \n",
      "\u001b[38;5;250m 2\u001b[39m M           \u001b[4m1\u001b[24m\u001b[4m3\u001b[24m828  6.28\n",
      "\u001b[38;5;250m 3\u001b[39m L            \u001b[4m5\u001b[24m000  2.27\n",
      "\u001b[38;5;250m 4\u001b[39m N            \u001b[4m4\u001b[24m703  2.13\n",
      "\u001b[38;5;250m 5\u001b[39m K            \u001b[4m4\u001b[24m658  2.11\n",
      "\u001b[38;5;250m 6\u001b[39m J            \u001b[4m4\u001b[24m166  1.89\n",
      "\u001b[38;5;250m 7\u001b[39m I            \u001b[4m3\u001b[24m065  1.39\n",
      "\u001b[38;5;250m 8\u001b[39m B            \u001b[4m1\u001b[24m310  0.59\n",
      "\u001b[38;5;250m 9\u001b[39m H            \u001b[4m1\u001b[24m162  0.53\n",
      "\u001b[38;5;250m10\u001b[39m Z            \u001b[4m1\u001b[24m133  0.51\n",
      "\u001b[38;5;250m11\u001b[39m G            \u001b[4m1\u001b[24m047  0.48\n",
      "\u001b[38;5;250m12\u001b[39m O             789  0.36\n",
      "\u001b[38;5;250m13\u001b[39m A             705  0.32\n",
      "\u001b[38;5;250m14\u001b[39m D             453  0.21\n",
      "\u001b[38;5;250m15\u001b[39m S             186  0.08\n",
      "\u001b[38;5;250m16\u001b[39m E             157  0.07\n",
      "\u001b[38;5;250m17\u001b[39m C              33  0.01\n",
      "\u001b[38;5;250m18\u001b[39m T              32  0.01\n",
      "\n",
      "[1] \"nyu_mcode\"\n",
      "\u001b[38;5;246m# A tibble: 1 × 3\u001b[39m\n",
      "\u001b[38;5;246m# Groups:   code_letter [1]\u001b[39m\n",
      "  code_letter     n   `%`\n",
      "  \u001b[3m\u001b[38;5;246m<chr>\u001b[39m\u001b[23m       \u001b[3m\u001b[38;5;246m<int>\u001b[39m\u001b[23m \u001b[3m\u001b[38;5;246m<dbl>\u001b[39m\u001b[23m\n",
      "\u001b[38;5;250m1\u001b[39m M           \u001b[4m1\u001b[24m\u001b[4m3\u001b[24m828  6.28\n",
      "\n",
      "[1] \"nyu_power\"\n",
      "\u001b[38;5;246m# A tibble: 2 × 3\u001b[39m\n",
      "\u001b[38;5;246m# Groups:   code_letter [2]\u001b[39m\n",
      "  code_letter     n   `%`\n",
      "  \u001b[3m\u001b[38;5;246m<chr>\u001b[39m\u001b[23m       \u001b[3m\u001b[38;5;246m<int>\u001b[39m\u001b[23m \u001b[3m\u001b[38;5;246m<dbl>\u001b[39m\u001b[23m\n",
      "\u001b[38;5;250m1\u001b[39m M           \u001b[4m1\u001b[24m\u001b[4m3\u001b[24m808  6.27\n",
      "\u001b[38;5;250m2\u001b[39m S               3  0   \n",
      "\n",
      "[1] \"nyu_hwa\"\n",
      "\u001b[38;5;246m# A tibble: 4 × 3\u001b[39m\n",
      "\u001b[38;5;246m# Groups:   code_letter [4]\u001b[39m\n",
      "  code_letter     n   `%`\n",
      "  \u001b[3m\u001b[38;5;246m<chr>\u001b[39m\u001b[23m       \u001b[3m\u001b[38;5;246m<int>\u001b[39m\u001b[23m \u001b[3m\u001b[38;5;246m<dbl>\u001b[39m\u001b[23m\n",
      "\u001b[38;5;250m1\u001b[39m M           \u001b[4m1\u001b[24m\u001b[4m2\u001b[24m406  5.63\n",
      "\u001b[38;5;250m2\u001b[39m R            \u001b[4m4\u001b[24m451  2.02\n",
      "\u001b[38;5;250m3\u001b[39m G             601  0.27\n",
      "\u001b[38;5;250m4\u001b[39m S              33  0.01\n"
     ]
    }
   ],
   "source": [
    "letter_function(ed_data, nyu)\n",
    "letter_function(ed_data, nyu_mcode)\n",
    "letter_function(ed_data, nyu_power)\n",
    "letter_function(ed_data, nyu_hwa)\n"
   ]
  },
  {
   "cell_type": "markdown",
   "metadata": {},
   "source": [
    "Differences"
   ]
  },
  {
   "cell_type": "code",
   "execution_count": 22,
   "metadata": {},
   "outputs": [
    {
     "name": "stdout",
     "output_type": "stream",
     "text": [
      "[1] \"Mean Mcode: 6.28\"\n",
      "\n",
      "[1] \"Mean power: 6.27\"\n",
      "\n",
      "[1] \"Mean hwa: 7.94\"\n",
      "\n",
      "CIs\u001b[38;5;246m# A tibble: 3 × 4\u001b[39m\n",
      "  comp        estimate lower upper\n",
      "  \u001b[3m\u001b[38;5;246m<chr>\u001b[39m\u001b[23m          \u001b[3m\u001b[38;5;246m<dbl>\u001b[39m\u001b[23m \u001b[3m\u001b[38;5;246m<dbl>\u001b[39m\u001b[23m \u001b[3m\u001b[38;5;246m<dbl>\u001b[39m\u001b[23m\n",
      "\u001b[38;5;250m1\u001b[39m mcode-hwa      -\u001b[31m1\u001b[39m\u001b[31m.\u001b[39m\u001b[31m66\u001b[39m -\u001b[31m1\u001b[39m\u001b[31m.\u001b[39m\u001b[31m81\u001b[39m -\u001b[31m1\u001b[39m\u001b[31m.\u001b[39m\u001b[31m51\u001b[39m\n",
      "\u001b[38;5;250m2\u001b[39m power-hwa      -\u001b[31m1\u001b[39m\u001b[31m.\u001b[39m\u001b[31m67\u001b[39m -\u001b[31m1\u001b[39m\u001b[31m.\u001b[39m\u001b[31m82\u001b[39m -\u001b[31m1\u001b[39m\u001b[31m.\u001b[39m\u001b[31m52\u001b[39m\n",
      "\u001b[38;5;250m3\u001b[39m power-mcode    -\u001b[31m0\u001b[39m\u001b[31m.\u001b[39m\u001b[31m0\u001b[39m\u001b[31m1\u001b[39m -\u001b[31m0\u001b[39m\u001b[31m.\u001b[39m\u001b[31m15\u001b[39m  0.14\n"
     ]
    }
   ],
   "source": [
    "cols_in <- c(\"nyu_mcode\", \"nyu_power\", \"nyu_hwa\")\n",
    "diff_function(cols_in)"
   ]
  },
  {
   "cell_type": "markdown",
   "metadata": {},
   "source": [
    "##### Sensitivity"
   ]
  },
  {
   "cell_type": "markdown",
   "metadata": {},
   "source": [
    "Proportions"
   ]
  },
  {
   "cell_type": "code",
   "execution_count": 23,
   "metadata": {},
   "outputs": [
    {
     "name": "stdout",
     "output_type": "stream",
     "text": [
      "[1] \"total visits: 121088\"\n",
      "\n",
      "[1] \"mcode\"\n",
      "\u001b[38;5;246m# A tibble: 1 × 2\u001b[39m\n",
      "      n   `%`\n",
      "  \u001b[3m\u001b[38;5;246m<int>\u001b[39m\u001b[23m \u001b[3m\u001b[38;5;246m<dbl>\u001b[39m\u001b[23m\n",
      "\u001b[38;5;250m1\u001b[39m  \u001b[4m9\u001b[24m386  7.75\n",
      "\n",
      "[1] \"power\"\n",
      "\u001b[38;5;246m# A tibble: 1 × 2\u001b[39m\n",
      "      n   `%`\n",
      "  \u001b[3m\u001b[38;5;246m<int>\u001b[39m\u001b[23m \u001b[3m\u001b[38;5;246m<dbl>\u001b[39m\u001b[23m\n",
      "\u001b[38;5;250m1\u001b[39m \u001b[4m1\u001b[24m\u001b[4m6\u001b[24m279  13.4\n",
      "\n",
      "[1] \"hwa\"\n",
      "\u001b[38;5;246m# A tibble: 1 × 2\u001b[39m\n",
      "      n   `%`\n",
      "  \u001b[3m\u001b[38;5;246m<int>\u001b[39m\u001b[23m \u001b[3m\u001b[38;5;246m<dbl>\u001b[39m\u001b[23m\n",
      "\u001b[38;5;250m1\u001b[39m \u001b[4m1\u001b[24m\u001b[4m9\u001b[24m320  16.0\n"
     ]
    }
   ],
   "source": [
    "first_visit <- ed_data |>\n",
    "  select(stay_id, subject_id, intime, mcode, power, hwa, nyu, nyu_mcode, nyu_power, nyu_hwa) |> \n",
    "  collect() |> \n",
    "  group_by(subject_id) |> \n",
    "  arrange(intime) |> \n",
    "  slice_head(n=1) |> \n",
    "  ungroup() |> \n",
    "  arrow_table()\n",
    "\n",
    "print(paste(\"total visits:\",nrow(first_visit)))\n",
    "prop_f(first_visit, mcode)\n",
    "prop_f(first_visit, power)\n",
    "prop_f(first_visit, hwa)"
   ]
  },
  {
   "cell_type": "markdown",
   "metadata": {},
   "source": [
    "Redirectable"
   ]
  },
  {
   "cell_type": "code",
   "execution_count": 24,
   "metadata": {},
   "outputs": [
    {
     "name": "stdout",
     "output_type": "stream",
     "text": [
      "\n",
      "[1] \"nyu\"\n",
      "\u001b[38;5;246m# A tibble: 1 × 2\u001b[39m\n",
      "      n   `%`\n",
      "  \u001b[3m\u001b[38;5;246m<int>\u001b[39m\u001b[23m \u001b[3m\u001b[38;5;246m<dbl>\u001b[39m\u001b[23m\n",
      "\u001b[38;5;250m1\u001b[39m \u001b[4m4\u001b[24m\u001b[4m0\u001b[24m230  33.2\n",
      "\n",
      "[1] \"nyu_mcode\"\n",
      "\u001b[38;5;246m# A tibble: 1 × 2\u001b[39m\n",
      "      n   `%`\n",
      "  \u001b[3m\u001b[38;5;246m<int>\u001b[39m\u001b[23m \u001b[3m\u001b[38;5;246m<dbl>\u001b[39m\u001b[23m\n",
      "\u001b[38;5;250m1\u001b[39m  \u001b[4m7\u001b[24m234  5.97\n",
      "\n",
      "[1] \"nyu_power\"\n",
      "\u001b[38;5;246m# A tibble: 1 × 2\u001b[39m\n",
      "      n   `%`\n",
      "  \u001b[3m\u001b[38;5;246m<int>\u001b[39m\u001b[23m \u001b[3m\u001b[38;5;246m<dbl>\u001b[39m\u001b[23m\n",
      "\u001b[38;5;250m1\u001b[39m  \u001b[4m7\u001b[24m228  5.97\n",
      "\n",
      "[1] \"nyu_hwa\"\n",
      "\u001b[38;5;246m# A tibble: 1 × 2\u001b[39m\n",
      "      n   `%`\n",
      "  \u001b[3m\u001b[38;5;246m<int>\u001b[39m\u001b[23m \u001b[3m\u001b[38;5;246m<dbl>\u001b[39m\u001b[23m\n",
      "\u001b[38;5;250m1\u001b[39m  \u001b[4m9\u001b[24m298  7.68\n"
     ]
    }
   ],
   "source": [
    "prop_f(first_visit, nyu)\n",
    "prop_f(first_visit, nyu_mcode)\n",
    "prop_f(first_visit, nyu_power)\n",
    "prop_f(first_visit, nyu_hwa)\n"
   ]
  },
  {
   "cell_type": "markdown",
   "metadata": {},
   "source": [
    "### HCAI"
   ]
  },
  {
   "cell_type": "code",
   "execution_count": 25,
   "metadata": {},
   "outputs": [
    {
     "name": "stdout",
     "output_type": "stream",
     "text": [
      "\n",
      "[1] \"all\"\n",
      "\u001b[38;5;246m# A tibble: 1 × 2\u001b[39m\n",
      "  sum_visits   `%`\n",
      "       \u001b[3m\u001b[38;5;246m<dbl>\u001b[39m\u001b[23m \u001b[3m\u001b[38;5;246m<dbl>\u001b[39m\u001b[23m\n",
      "\u001b[38;5;250m1\u001b[39m   54\u001b[4m0\u001b[24m\u001b[4m5\u001b[24m\u001b[4m9\u001b[24m693   100\n",
      "\n",
      "[1] \"mcode\"\n",
      "\u001b[38;5;246m# A tibble: 1 × 2\u001b[39m\n",
      "  sum_visits   `%`\n",
      "       \u001b[3m\u001b[38;5;246m<dbl>\u001b[39m\u001b[23m \u001b[3m\u001b[38;5;246m<dbl>\u001b[39m\u001b[23m\n",
      "\u001b[38;5;250m1\u001b[39m    3\u001b[4m8\u001b[24m\u001b[4m3\u001b[24m\u001b[4m2\u001b[24m506   7.1\n",
      "\n",
      "[1] \"power\"\n",
      "\u001b[38;5;246m# A tibble: 1 × 2\u001b[39m\n",
      "  sum_visits   `%`\n",
      "       \u001b[3m\u001b[38;5;246m<dbl>\u001b[39m\u001b[23m \u001b[3m\u001b[38;5;246m<dbl>\u001b[39m\u001b[23m\n",
      "\u001b[38;5;250m1\u001b[39m    6\u001b[4m4\u001b[24m\u001b[4m4\u001b[24m\u001b[4m1\u001b[24m309  11.9\n",
      "\n",
      "[1] \"hwa\"\n",
      "\u001b[38;5;246m# A tibble: 1 × 2\u001b[39m\n",
      "  sum_visits   `%`\n",
      "       \u001b[3m\u001b[38;5;246m<dbl>\u001b[39m\u001b[23m \u001b[3m\u001b[38;5;246m<dbl>\u001b[39m\u001b[23m\n",
      "\u001b[38;5;250m1\u001b[39m    9\u001b[4m8\u001b[24m\u001b[4m2\u001b[24m\u001b[4m1\u001b[24m279  18.2\n"
     ]
    }
   ],
   "source": [
    "cali_f <- function(col_name){\n",
    "    cat(\"\\n\")\n",
    "    print(deparse(substitute(col_name)))\n",
    "    sum_x <- sum(cali_df$primary_count)\n",
    "    cali_df |> \n",
    "        filter({{col_name}}==1) |> \n",
    "        summarise(sum_visits = sum(primary_count)) |> \n",
    "        mutate(`%` = round(sum_visits/sum_x*100,1)) |> \n",
    "        print()\n",
    "}\n",
    "cali_f(all)\n",
    "cali_f(mcode)\n",
    "cali_f(power)\n",
    "cali_f(hwa)\n"
   ]
  },
  {
   "cell_type": "code",
   "execution_count": 26,
   "metadata": {},
   "outputs": [
    {
     "name": "stdout",
     "output_type": "stream",
     "text": [
      "\n",
      "[1] \"nyu\"\n",
      "\u001b[38;5;246m# A tibble: 1 × 2\u001b[39m\n",
      "  sum_visits   `%`\n",
      "       \u001b[3m\u001b[38;5;246m<dbl>\u001b[39m\u001b[23m \u001b[3m\u001b[38;5;246m<dbl>\u001b[39m\u001b[23m\n",
      "\u001b[38;5;250m1\u001b[39m   25\u001b[4m1\u001b[24m\u001b[4m0\u001b[24m\u001b[4m9\u001b[24m221  46.4\n",
      "\n",
      "[1] \"nyu_mcode\"\n",
      "\u001b[38;5;246m# A tibble: 1 × 2\u001b[39m\n",
      "  sum_visits   `%`\n",
      "       \u001b[3m\u001b[38;5;246m<dbl>\u001b[39m\u001b[23m \u001b[3m\u001b[38;5;246m<dbl>\u001b[39m\u001b[23m\n",
      "\u001b[38;5;250m1\u001b[39m    3\u001b[4m0\u001b[24m\u001b[4m1\u001b[24m\u001b[4m3\u001b[24m389   5.6\n",
      "\n",
      "[1] \"nyu_power\"\n",
      "\u001b[38;5;246m# A tibble: 1 × 2\u001b[39m\n",
      "  sum_visits   `%`\n",
      "       \u001b[3m\u001b[38;5;246m<dbl>\u001b[39m\u001b[23m \u001b[3m\u001b[38;5;246m<dbl>\u001b[39m\u001b[23m\n",
      "\u001b[38;5;250m1\u001b[39m    3\u001b[4m0\u001b[24m\u001b[4m1\u001b[24m\u001b[4m3\u001b[24m148   5.6\n",
      "\n",
      "[1] \"nyu_hwa\"\n",
      "\u001b[38;5;246m# A tibble: 1 × 2\u001b[39m\n",
      "  sum_visits   `%`\n",
      "       \u001b[3m\u001b[38;5;246m<dbl>\u001b[39m\u001b[23m \u001b[3m\u001b[38;5;246m<dbl>\u001b[39m\u001b[23m\n",
      "\u001b[38;5;250m1\u001b[39m    3\u001b[4m9\u001b[24m\u001b[4m7\u001b[24m\u001b[4m1\u001b[24m518   7.3\n"
     ]
    }
   ],
   "source": [
    "cali_f(nyu)\n",
    "cali_f(nyu_mcode)\n",
    "cali_f(nyu_power)\n",
    "cali_f(nyu_hwa)"
   ]
  },
  {
   "cell_type": "code",
   "execution_count": 27,
   "metadata": {},
   "outputs": [
    {
     "name": "stdout",
     "output_type": "stream",
     "text": [
      "\n",
      "[1] \"all\"\n",
      "\u001b[38;5;246m# A tibble: 21 × 3\u001b[39m\n",
      "\u001b[38;5;246m# Groups:   code_letter [21]\u001b[39m\n",
      "   code_letter     n   `%`\n",
      "   \u001b[3m\u001b[38;5;246m<chr>\u001b[39m\u001b[23m       \u001b[3m\u001b[38;5;246m<int>\u001b[39m\u001b[23m \u001b[3m\u001b[38;5;246m<dbl>\u001b[39m\u001b[23m\n",
      "\u001b[38;5;250m 1\u001b[39m S           \u001b[4m1\u001b[24m\u001b[4m5\u001b[24m881 39.1 \n",
      "\u001b[38;5;250m 2\u001b[39m T            \u001b[4m4\u001b[24m842 11.9 \n",
      "\u001b[38;5;250m 3\u001b[39m M            \u001b[4m4\u001b[24m308 10.6 \n",
      "\u001b[38;5;250m 4\u001b[39m H            \u001b[4m2\u001b[24m698  6.64\n",
      "\u001b[38;5;250m 5\u001b[39m O            \u001b[4m1\u001b[24m336  3.29\n",
      "\u001b[38;5;250m 6\u001b[39m Z            \u001b[4m1\u001b[24m225  3.01\n",
      "\u001b[38;5;250m 7\u001b[39m I            \u001b[4m1\u001b[24m207  2.97\n",
      "\u001b[38;5;250m 8\u001b[39m C            \u001b[4m1\u001b[24m019  2.51\n",
      "\u001b[38;5;250m 9\u001b[39m L             823  2.02\n",
      "\u001b[38;5;250m10\u001b[39m Q             796  1.96\n",
      "\u001b[38;5;246m# ℹ 11 more rows\u001b[39m\n",
      "\u001b[38;5;246m# ℹ Use `print(n = ...)` to see more rows\u001b[39m\n",
      "\n",
      "[1] \"mcode\"\n",
      "\u001b[38;5;246m# A tibble: 1 × 3\u001b[39m\n",
      "\u001b[38;5;246m# Groups:   code_letter [1]\u001b[39m\n",
      "  code_letter     n   `%`\n",
      "  \u001b[3m\u001b[38;5;246m<chr>\u001b[39m\u001b[23m       \u001b[3m\u001b[38;5;246m<int>\u001b[39m\u001b[23m \u001b[3m\u001b[38;5;246m<dbl>\u001b[39m\u001b[23m\n",
      "\u001b[38;5;250m1\u001b[39m M            \u001b[4m4\u001b[24m308  10.6\n",
      "\n",
      "[1] \"power\"\n",
      "\u001b[38;5;246m# A tibble: 2 × 3\u001b[39m\n",
      "\u001b[38;5;246m# Groups:   code_letter [2]\u001b[39m\n",
      "  code_letter     n   `%`\n",
      "  \u001b[3m\u001b[38;5;246m<chr>\u001b[39m\u001b[23m       \u001b[3m\u001b[38;5;246m<int>\u001b[39m\u001b[23m \u001b[3m\u001b[38;5;246m<dbl>\u001b[39m\u001b[23m\n",
      "\u001b[38;5;250m1\u001b[39m S            \u001b[4m7\u001b[24m847  19.3\n",
      "\u001b[38;5;250m2\u001b[39m M            \u001b[4m4\u001b[24m099  10.1\n",
      "\n",
      "[1] \"hwa\"\n",
      "\u001b[38;5;246m# A tibble: 8 × 3\u001b[39m\n",
      "\u001b[38;5;246m# Groups:   code_letter [8]\u001b[39m\n",
      "  code_letter     n   `%`\n",
      "  \u001b[3m\u001b[38;5;246m<chr>\u001b[39m\u001b[23m       \u001b[3m\u001b[38;5;246m<int>\u001b[39m\u001b[23m \u001b[3m\u001b[38;5;246m<dbl>\u001b[39m\u001b[23m\n",
      "\u001b[38;5;250m1\u001b[39m S            \u001b[4m8\u001b[24m452 20.8 \n",
      "\u001b[38;5;250m2\u001b[39m M             646  1.59\n",
      "\u001b[38;5;250m3\u001b[39m G              22  0.05\n",
      "\u001b[38;5;250m4\u001b[39m I              20  0.05\n",
      "\u001b[38;5;250m5\u001b[39m R              10  0.02\n",
      "\u001b[38;5;250m6\u001b[39m T               4  0.01\n",
      "\u001b[38;5;250m7\u001b[39m D               1  0   \n",
      "\u001b[38;5;250m8\u001b[39m Q               1  0   \n"
     ]
    }
   ],
   "source": [
    "letter_function(cali_df, all)\n",
    "letter_function(cali_df, mcode)\n",
    "letter_function(cali_df, power)\n",
    "letter_function(cali_df, hwa)"
   ]
  },
  {
   "cell_type": "code",
   "execution_count": 28,
   "metadata": {},
   "outputs": [
    {
     "name": "stdout",
     "output_type": "stream",
     "text": [
      "\n",
      "[1] \"nyu\"\n",
      "\u001b[38;5;246m# A tibble: 18 × 3\u001b[39m\n",
      "\u001b[38;5;246m# Groups:   code_letter [18]\u001b[39m\n",
      "   code_letter     n   `%`\n",
      "   \u001b[3m\u001b[38;5;246m<chr>\u001b[39m\u001b[23m       \u001b[3m\u001b[38;5;246m<int>\u001b[39m\u001b[23m \u001b[3m\u001b[38;5;246m<dbl>\u001b[39m\u001b[23m\n",
      "\u001b[38;5;250m 1\u001b[39m M             424  1.04\n",
      "\u001b[38;5;250m 2\u001b[39m H             187  0.46\n",
      "\u001b[38;5;250m 3\u001b[39m L             187  0.46\n",
      "\u001b[38;5;250m 4\u001b[39m N              92  0.23\n",
      "\u001b[38;5;250m 5\u001b[39m R              85  0.21\n",
      "\u001b[38;5;250m 6\u001b[39m K              66  0.16\n",
      "\u001b[38;5;250m 7\u001b[39m Z              60  0.15\n",
      "\u001b[38;5;250m 8\u001b[39m B              53  0.13\n",
      "\u001b[38;5;250m 9\u001b[39m O              41  0.1 \n",
      "\u001b[38;5;250m10\u001b[39m J              37  0.09\n",
      "\u001b[38;5;250m11\u001b[39m I              34  0.08\n",
      "\u001b[38;5;250m12\u001b[39m A              22  0.05\n",
      "\u001b[38;5;250m13\u001b[39m G              21  0.05\n",
      "\u001b[38;5;250m14\u001b[39m E              19  0.05\n",
      "\u001b[38;5;250m15\u001b[39m P               4  0.01\n",
      "\u001b[38;5;250m16\u001b[39m Q               3  0.01\n",
      "\u001b[38;5;250m17\u001b[39m D               2  0   \n",
      "\u001b[38;5;250m18\u001b[39m C               1  0   \n",
      "\n",
      "[1] \"nyu_mcode\"\n",
      "\u001b[38;5;246m# A tibble: 1 × 3\u001b[39m\n",
      "\u001b[38;5;246m# Groups:   code_letter [1]\u001b[39m\n",
      "  code_letter     n   `%`\n",
      "  \u001b[3m\u001b[38;5;246m<chr>\u001b[39m\u001b[23m       \u001b[3m\u001b[38;5;246m<int>\u001b[39m\u001b[23m \u001b[3m\u001b[38;5;246m<dbl>\u001b[39m\u001b[23m\n",
      "\u001b[38;5;250m1\u001b[39m M             424  1.04\n",
      "\n",
      "[1] \"nyu_power\"\n",
      "\u001b[38;5;246m# A tibble: 1 × 3\u001b[39m\n",
      "\u001b[38;5;246m# Groups:   code_letter [1]\u001b[39m\n",
      "  code_letter     n   `%`\n",
      "  \u001b[3m\u001b[38;5;246m<chr>\u001b[39m\u001b[23m       \u001b[3m\u001b[38;5;246m<int>\u001b[39m\u001b[23m \u001b[3m\u001b[38;5;246m<dbl>\u001b[39m\u001b[23m\n",
      "\u001b[38;5;250m1\u001b[39m M             420  1.03\n",
      "\n",
      "[1] \"nyu_hwa\"\n",
      "\u001b[38;5;246m# A tibble: 3 × 3\u001b[39m\n",
      "\u001b[38;5;246m# Groups:   code_letter [3]\u001b[39m\n",
      "  code_letter     n   `%`\n",
      "  \u001b[3m\u001b[38;5;246m<chr>\u001b[39m\u001b[23m       \u001b[3m\u001b[38;5;246m<int>\u001b[39m\u001b[23m \u001b[3m\u001b[38;5;246m<dbl>\u001b[39m\u001b[23m\n",
      "\u001b[38;5;250m1\u001b[39m M             119  0.29\n",
      "\u001b[38;5;250m2\u001b[39m R               4  0.01\n",
      "\u001b[38;5;250m3\u001b[39m G               2  0   \n"
     ]
    }
   ],
   "source": [
    "letter_function(cali_df, nyu)\n",
    "letter_function(cali_df, nyu_mcode)\n",
    "letter_function(cali_df, nyu_power)\n",
    "letter_function(cali_df, nyu_hwa)"
   ]
  },
  {
   "cell_type": "markdown",
   "metadata": {},
   "source": [
    "# Plots"
   ]
  },
  {
   "cell_type": "markdown",
   "metadata": {},
   "source": [
    "Fig 1"
   ]
  },
  {
   "cell_type": "code",
   "execution_count": 37,
   "metadata": {},
   "outputs": [],
   "source": [
    "stacked_f <- function (mcode_col, power_col, hwa_col, title_in, max_in) {\n",
    "  data <- ed_data |> \n",
    "    select({{mcode_col}}, {{power_col}}, {{hwa_col}}) |> \n",
    "    collect()\n",
    "  # Compute counts\n",
    "  counts <- list(\n",
    "    mcode = data |> filter({{ mcode_col }} == 1) |> nrow(),\n",
    "    power_additional = data |> filter({{ power_col }} == 1, {{ mcode_col }} == 0) |> nrow(),\n",
    "    hwa_additional = data |> filter({{ hwa_col }} == 1, {{ power_col }} == 0, {{ mcode_col }} == 0) |> nrow()\n",
    "  )\n",
    "  \n",
    "  plot_data <- tribble(\n",
    "    ~bar,   ~segment,      ~count,\n",
    "    \"M-Codes\", \"M-Codes\",           counts$mcode,\n",
    "    \"M-Codes+\\n PC-MSK Codes\", \"M-Codes\",       counts$mcode,\n",
    "    \"M-Codes+\\n PC-MSK Codes\", \"PC-MSK Codes\",      counts$power_additional,\n",
    "    \"M-Codes+\\n PC-MSK Codes+\\n ED-MSK Codes\", \"M-Codes\",           counts$mcode,\n",
    "    \"M-Codes+\\n PC-MSK Codes+\\n ED-MSK Codes\", \"PC-MSK Codes\",      counts$power_additional,\n",
    "    \"M-Codes+\\n PC-MSK Codes+\\n ED-MSK Codes\", \"ED-MSK Codes\",        counts$hwa_additional\n",
    "  ) |> \n",
    "    mutate(\n",
    "      bar = factor(bar, levels = c(\"M-Codes\", \"M-Codes+\\n PC-MSK Codes\",  \"M-Codes+\\n PC-MSK Codes+\\n ED-MSK Codes\")),\n",
    "      segment = factor(segment, levels = c( \"ED-MSK Codes\",\"PC-MSK Codes\", \"M-Codes\")),\n",
    "    )\n",
    "  \n",
    "  \n",
    "  # Plot\n",
    "  p1 <- ggplot(plot_data, aes(x = bar, y = count, fill = segment)) +\n",
    "    geom_bar(stat = \"identity\") +\n",
    "    labs(\n",
    "      x=\"\",\n",
    "      y = \"Visits (N)\",\n",
    "      fill = \"\"\n",
    "    ) +\n",
    "    theme_minimal()+\n",
    "    theme(\n",
    "      panel.grid = element_blank(),\n",
    "      legend.position=\"bottom\",\n",
    "      axis.line = element_line(color = \"black\"),\n",
    "      axis.text = element_text(size = 9, colour = \"black\")\n",
    "    )+\n",
    "    scale_y_continuous(\n",
    "      expand = expansion(mult = c(0, 0.05)),\n",
    "      breaks = seq(0, max_in, by = 5000),\n",
    "      limits = c(0, max_in)\n",
    "    )+\n",
    "    ggtitle(label = title_in)\n",
    "  return(p1)\n",
    "}"
   ]
  },
  {
   "cell_type": "code",
   "execution_count": 38,
   "metadata": {},
   "outputs": [
    {
     "data": {
      "image/png": "[encoded data removed]"
     },
     "metadata": {},
     "output_type": "display_data"
    }
   ],
   "source": [
    "fig1_1a <- stacked_f(mcode,power,hwa, \"All Visits\", 40000)+scale_fill_startrek()\n",
    "fig_1b <- stacked_f(nyu_mcode,nyu_power,nyu_hwa, \"Potentially Avoidable Visits\", 20000)+scale_fill_futurama()\n",
    "fig1 <- (fig1_1a + fig_1b + plot_layout(axes = \"collect\")) \n",
    "ggsave(\"fig1.svg\", fig1, device = \"svg\", width = 10, height=7, dpi=1200)\n",
    "plot(fig1)"
   ]
  },
  {
   "cell_type": "markdown",
   "metadata": {},
   "source": [
    "Fig 2"
   ]
  },
  {
   "cell_type": "code",
   "execution_count": 6,
   "metadata": {},
   "outputs": [],
   "source": [
    "upset_f <- function(mcode_col, power_col, hwa_col, title_in, max_in){\n",
    "data <- ed_data |> \n",
    "  select(\n",
    "    mcode = all_of(mcode_col),\n",
    "    power = all_of(power_col),\n",
    "    hwa = all_of(hwa_col)\n",
    "  ) |> \n",
    "  collect()\n",
    "  \n",
    "set_levels <- c(\"M-Codes\", \"PC-MSK codes\", \"ED-MSK codes\")\n",
    "  \n",
    " data_sets <-  data |>\n",
    "    mutate(sets = pmap(list(mcode, power, hwa), function(mcode, power, hwa) {\n",
    "    members <- c()\n",
    "    if (mcode == 1) members <- c(members, \"M-Codes\")\n",
    "    if (power == 1) members <- c(members, \"PC-MSK codes\")\n",
    "    if (hwa == 1) members <- c(members, \"ED-MSK codes\")\n",
    "    members\n",
    "  }))\n",
    "\n",
    "  p1 <- data_sets |> \n",
    "    filter(lengths(sets) > 0) |>\n",
    "    mutate(set_size = lengths(sets)) |>\n",
    "    ggplot(aes(x = sets, fill = factor(set_size))) +\n",
    "    geom_bar() +\n",
    "    scale_x_upset(sets = set_levels) +\n",
    "    geom_text(stat=\"count\", aes(label=after_stat(count)), vjust=-1)+\n",
    "    scale_y_continuous(\n",
    "      expand = expansion(mult = c(0, 0.05)),\n",
    "      breaks = seq(0, max_in, by = 2500),\n",
    "      limits = c(0, max_in)\n",
    "    )+\n",
    "    labs(x = \"Set Intersections\", y = \"Count\")+\n",
    "    theme_minimal()+\n",
    "    theme(\n",
    "        legend.position = \"none\",\n",
    "        panel.grid=element_blank(),\n",
    "        axis.line = element_line(color = \"black\"),\n",
    "        axis.text = element_text(size = 9, colour = \"black\")\n",
    "      )+\n",
    "    theme_combmatrix(combmatrix.label.text = element_text(size = 10, colour = \"black\"))+ # Set the font size for matrix\n",
    "    labs(\n",
    "      x=\"\",\n",
    "      y=\"Visits (N)\"\n",
    "    )+\n",
    "\n",
    "    ggtitle(label=title_in)\n",
    "  \n",
    "  return(p1)\n",
    "}\n"
   ]
  },
  {
   "cell_type": "code",
   "execution_count": 8,
   "metadata": {},
   "outputs": [
    {
     "data": {
      "image/png": "[encoded data removed]"
     },
     "metadata": {},
     "output_type": "display_data"
    }
   ],
   "source": [
    "fig_2a <- upset_f(\"mcode\", \"power\", \"hwa\", \"All Visits\", 15000)+scale_fill_startrek()\n",
    "fig_2b <- upset_f(\"nyu_mcode\", \"nyu_power\", \"nyu_hwa\", \"Potentially Avoidable Visits\", 15000)+scale_fill_futurama()\n",
    "fig2 <- (fig_2a + fig_2b + plot_layout(guides = \"collect\")) \n",
    "ggsave(\"fig2.svg\", fig2, device = \"svg\", width = 10, height=7, dpi=1200)\n",
    "ggsave(\"fig2.png\", fig2, device = \"png\", width = 10, height=7, dpi=1200)\n",
    "plot(fig2)"
   ]
  },
  {
   "cell_type": "markdown",
   "metadata": {},
   "source": [
    "# save results"
   ]
  },
  {
   "cell_type": "code",
   "execution_count": 33,
   "metadata": {},
   "outputs": [],
   "source": [
    "# save mimic data frame\n",
    "write_parquet(ed_data, \"mimic_data.parquet\")\n",
    "\n",
    "# save california data frame\n",
    "write_parquet(cali_df, \"cali_data.parquet\")"
   ]
  }
 ],
 "metadata": {
  "kernelspec": {
   "display_name": "R",
   "language": "R",
   "name": "ir"
  },
  "language_info": {
   "name": "r"
  }
 },
 "nbformat": 4,
 "nbformat_minor": 2
}
