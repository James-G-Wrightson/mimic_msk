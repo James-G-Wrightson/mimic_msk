{
 "cells": [
  {
   "cell_type": "markdown",
   "metadata": {},
   "source": [
    "# Data"
   ]
  },
  {
   "cell_type": "code",
   "execution_count": null,
   "metadata": {},
   "outputs": [],
   "source": [
    "# R PACKAGES\n",
    "if(!require(\"pacman\")) install.packages(\"pacman\")\n",
    "pacman::p_load(arrow, tidyverse, janitor, readxl, stringdist)"
   ]
  },
  {
   "cell_type": "code",
   "execution_count": null,
   "metadata": {},
   "outputs": [],
   "source": [
    "who_2019 <- read_delim(\n",
    "  \"icd102019syst_codes.txt\", \n",
    "  delim = \";\", \n",
    "  col_names=F, \n",
    "  show_col_types=F\n",
    ") |> \n",
    "  select(\n",
    "    who_code = X8, \n",
    "    who_desc = X9\n",
    "  )\n",
    "\n",
    "#CMS ICD10 CM code list\n",
    "cms <- read_lines(\n",
    "  \"icd10cm_order_2019.txt\") |> \n",
    "  as_tibble() |> \n",
    "  separate_wider_regex(\n",
    "    value,\n",
    "    patterns = c(\n",
    "    id = \"[^\\\\s]+\",         # First non-whitespace block\n",
    "    \"\\\\s+\",                 # One or more spaces\n",
    "    rest = \".*\"             # Everything else\n",
    "      )\n",
    "  ) |> \n",
    "  separate_wider_regex(\n",
    "    rest,\n",
    "    patterns = c(\n",
    "      cms_code = \"[^\\\\s]+\",         # First non-whitespace block\n",
    "      \"\\\\s+\",                 # One or more spaces\n",
    "      rest_again = \".*\"             # Everything else\n",
    "    )\n",
    "  ) |> \n",
    "  separate_wider_regex(\n",
    "    rest_again,\n",
    "    patterns = c(\n",
    "      level = \"[^\\\\s]+\",         # First non-whitespace block\n",
    "      \"\\\\s+\",                 # One or more spaces\n",
    "      rest_desc = \".*\"             # Everything else\n",
    "    )\n",
    "  ) |> \n",
    "  mutate(\n",
    "    rest_desc = str_replace_all(rest_desc, \"\\\\s{2,}\", \"!!!\")\n",
    "  ) |> \n",
    "    separate_wider_delim(\n",
    "      rest_desc,\n",
    "      delim = \"!!!\",\n",
    "      too_few = \"align_start\",\n",
    "      too_many = 'merge',\n",
    "      names = c(\"cms_desc\", \"cms_desc_long\")\n",
    "    ) |> \n",
    "  select(cms_code, cms_desc) |> \n",
    "  distinct(cms_code, .keep_all = T)"
   ]
  },
  {
   "cell_type": "code",
   "execution_count": null,
   "metadata": {},
   "outputs": [],
   "source": [
    "# HWA (thompson) codes\n",
    "# getting the codes from the text extracted from the pdf to a tibble is  long and is shown in the hwa.r file\n",
    "source(\"hwa.R\")\n",
    "hwa<- hwa_f() |> \n",
    "  mutate(\n",
    "    code_length = str_count(hwa_code),\n",
    "    code_letter = str_sub(hwa_code,1,1)\n",
    "  ) |> \n",
    "  distinct(hwa_code, .keep_all = T) \n",
    "  # see whic codes have children/parents\n",
    "  hwa <- hwa |> \n",
    "    mutate(\n",
    "      has_child = map_lgl(hwa_code, function(code) {\n",
    "      any(str_starts(hwa$hwa_code, code) & nchar(hwa$hwa_code) > nchar(code))\n",
    "    }) ,\n",
    "    is_child = map_lgl(hwa_code, function(code) {\n",
    "      # Generate all prefixes of the code excluding the full code itself\n",
    "      prefixes <- str_sub(code, 1, seq_len(str_length(code) - 1))\n",
    "      # Check if any prefix exists in the list of codes\n",
    "      any(prefixes %in% hwa$hwa_code)\n",
    "    })\n",
    "  ) |> \n",
    "    # I dont need the Z codes, these are not diagnoses\n",
    "  filter(\n",
    "    code_letter != \"Z\"\n",
    "  )\n",
    "\n",
    "write_csv (hwa, \"hwa_codes.csv\")"
   ]
  },
  {
   "cell_type": "markdown",
   "metadata": {},
   "source": [
    "# Functions"
   ]
  },
  {
   "cell_type": "code",
   "execution_count": 4,
   "metadata": {},
   "outputs": [],
   "source": [
    "describe_function <- function(df, col_name){\n",
    "\n",
    "  print(\"N codes in list\")\n",
    "  df |> \n",
    "    count() |> \n",
    "    print()\n",
    "\n",
    "  cat(\"\\nCode lengths in list\")\n",
    "  df |> \n",
    "    group_by(code_length) |> \n",
    "    count() |> \n",
    "    print()\n",
    "\n",
    "  cat(\"\\nCode letters in list\")\n",
    "  df |> \n",
    "    group_by(code_letter) |>\n",
    "    count() |>\n",
    "    mutate(\n",
    "      `%` = round(n/nrow(df)*100,1)\n",
    "    ) |>\n",
    "    print(n=120)\n",
    "\n",
    "  cat(\"\\nCode lengths and letters in list\")\n",
    "  df |> \n",
    "    group_by(code_length, code_letter) |>\n",
    "    count() |>\n",
    "    mutate(\n",
    "      `%` = round(n/nrow(df)*100,1)\n",
    "    ) |>\n",
    "    ungroup() |> \n",
    "    arrange(code_letter, code_length) |> \n",
    "    print(n=120)\n",
    "}"
   ]
  },
  {
   "cell_type": "markdown",
   "metadata": {},
   "source": [
    "# Describe HWA code list"
   ]
  },
  {
   "cell_type": "code",
   "execution_count": null,
   "metadata": {},
   "outputs": [],
   "source": [
    "describe_function(hwa, hwa_code)"
   ]
  },
  {
   "cell_type": "markdown",
   "metadata": {},
   "source": [
    "## Parent and child codes"
   ]
  },
  {
   "cell_type": "markdown",
   "metadata": {},
   "source": [
    "#### Describe the parent codes"
   ]
  },
  {
   "cell_type": "code",
   "execution_count": null,
   "metadata": {},
   "outputs": [],
   "source": [
    "describe_function(hwa |> \n",
    "  filter(has_child), hwa_code)"
   ]
  },
  {
   "cell_type": "code",
   "execution_count": null,
   "metadata": {},
   "outputs": [],
   "source": [
    "hwa |> \n",
    "  filter(has_child) |>\n",
    "  print(n=120)"
   ]
  },
  {
   "cell_type": "markdown",
   "metadata": {},
   "source": [
    "see which codes are children"
   ]
  },
  {
   "cell_type": "code",
   "execution_count": null,
   "metadata": {},
   "outputs": [],
   "source": [
    "hwa |> \n",
    "  filter(is_child) |>\n",
    "  print(n=120)"
   ]
  },
  {
   "cell_type": "markdown",
   "metadata": {},
   "source": [
    "See which codes have 1-2-1 mapping in the CMS code list"
   ]
  },
  {
   "cell_type": "code",
   "execution_count": 9,
   "metadata": {},
   "outputs": [],
   "source": [
    "hwa <- hwa |> \n",
    "  mutate(\n",
    "    has_cms = map_lgl(hwa_code,  ~ .x %in% cms$cms_code)\n",
    "  )"
   ]
  },
  {
   "cell_type": "code",
   "execution_count": null,
   "metadata": {},
   "outputs": [],
   "source": [
    "print(\"N codes with 1-2-1 mapping\")\n",
    "hwa |>\n",
    "  filter(has_cms) |>\n",
    "  count() |>\n",
    "  mutate(\n",
    "    `%` = n/nrow(hwa)*100\n",
    "  ) |>\n",
    "  print()"
   ]
  },
  {
   "cell_type": "markdown",
   "metadata": {},
   "source": [
    "# Mapping"
   ]
  },
  {
   "cell_type": "markdown",
   "metadata": {},
   "source": [
    "## Parent Codes"
   ]
  },
  {
   "cell_type": "markdown",
   "metadata": {},
   "source": [
    "I will only need to map the parent codes and the single codes.  \n",
    "First, map the parent codes"
   ]
  },
  {
   "cell_type": "code",
   "execution_count": null,
   "metadata": {},
   "outputs": [],
   "source": [
    "print(\"parents with 1-2-1 mapping\")\n",
    "hwa |>\n",
    "  filter(has_cms) |>\n",
    "  filter(has_child) |>\n",
    "  count() |>\n",
    "  mutate(\n",
    "    `%` = n/nrow(hwa |> filter(has_child))*100\n",
    "  ) |>\n",
    "  print()\n"
   ]
  },
  {
   "cell_type": "markdown",
   "metadata": {},
   "source": [
    "Most parent codes have 1-2-1 maps. Map these and check the mapping"
   ]
  },
  {
   "cell_type": "code",
   "execution_count": null,
   "metadata": {},
   "outputs": [],
   "source": [
    "print(\"which parents have 1-2-1 mapping?\")\n",
    "parent_cms <- hwa |>\n",
    "  filter(has_cms) |>\n",
    "  filter(has_child) |>\n",
    "  crossing(cms) |>\n",
    "  filter(\n",
    "    hwa_code == cms_code\n",
    "  )\n",
    "options(width=200)\n",
    "parent_cms |> \n",
    "  select(hwa_code, hwa_desc, cms_desc, cms_code) |>\n",
    "  print(n=120)"
   ]
  },
  {
   "cell_type": "code",
   "execution_count": null,
   "metadata": {},
   "outputs": [],
   "source": [
    "describe_function(parent_cms, cms_code)"
   ]
  },
  {
   "cell_type": "markdown",
   "metadata": {},
   "source": [
    "These look fine, the mappings look correct, and the sub-codes for these can be extracted becuase they are all going to be MSK (accoring to the HWA definition)"
   ]
  },
  {
   "cell_type": "code",
   "execution_count": 14,
   "metadata": {},
   "outputs": [],
   "source": [
    "parent_cms_map <- parent_cms |>\n",
    "  select(-cms_desc, -cms_code) |> \n",
    "  crossing(cms) |> \n",
    "  filter(\n",
    "    startsWith(cms_code, hwa_code)\n",
    "  )  "
   ]
  },
  {
   "cell_type": "code",
   "execution_count": null,
   "metadata": {},
   "outputs": [],
   "source": [
    "describe_function(parent_cms_map, cms_code)"
   ]
  },
  {
   "cell_type": "markdown",
   "metadata": {},
   "source": [
    "Now check out the parent codes that do not have 1-2-1 mapping"
   ]
  },
  {
   "cell_type": "code",
   "execution_count": null,
   "metadata": {},
   "outputs": [],
   "source": [
    "hwa |>\n",
    "  filter(!has_cms,has_child) |>\n",
    "  print(n=120)"
   ]
  },
  {
   "cell_type": "markdown",
   "metadata": {},
   "source": [
    "I use the [UMLS](https://uts.nlm.nih.gov/uts/umls/home) browser to find realted terms for these codes using the code description   \n",
    "For M139 Arthritis unspecified the realted term is \"Arthritis\", which the UMLS maps down to ICD-10-CM M19.90 Arthritis Not Otherwise Specified.   \n",
    "for M665 Spontaneous rupture unspecified tendon, the realted term is Non-traumatic tendon rupture, which UMLS maps to ICD-10-CM M66.9 Spontaneous rupture of unspecified tendon.   \n",
    "So for these two codes, they can be mapped to the related terms"
   ]
  },
  {
   "cell_type": "code",
   "execution_count": 17,
   "metadata": {},
   "outputs": [],
   "source": [
    "parent_cms_umls <- hwa |> \n",
    "  filter(!has_cms, has_child) |>\n",
    "  mutate(\n",
    "    code_to_map = case_when(\n",
    "      hwa_code == \"M139\" ~ \"M1990\",\n",
    "      hwa_code == \"M665\" ~ \"M669\"\n",
    "    )\n",
    "  ) |>\n",
    "  crossing(cms) |>\n",
    "  filter(\n",
    "    startsWith(cms_code, code_to_map)\n",
    "  ) |> \n",
    "  select(-code_to_map) \n",
    "\n",
    "parent_cms_join <- bind_rows(parent_cms_map, parent_cms_umls)"
   ]
  },
  {
   "cell_type": "markdown",
   "metadata": {},
   "source": [
    "The child codes will not need to be mapped, as they've been mapped via their parent code"
   ]
  },
  {
   "cell_type": "markdown",
   "metadata": {},
   "source": [
    "### Describe the parent/child code list"
   ]
  },
  {
   "cell_type": "code",
   "execution_count": null,
   "metadata": {},
   "outputs": [],
   "source": [
    "describe_function(parent_cms_join, cms_code)"
   ]
  },
  {
   "cell_type": "markdown",
   "metadata": {},
   "source": [
    "## Single codes"
   ]
  },
  {
   "cell_type": "markdown",
   "metadata": {},
   "source": [
    "### Describe the single codes"
   ]
  },
  {
   "cell_type": "code",
   "execution_count": null,
   "metadata": {},
   "outputs": [],
   "source": [
    "single_codes <- hwa |> \n",
    "  filter(!has_child & !is_child) \n",
    "\n",
    "describe_function(single_codes, hwa_code)"
   ]
  },
  {
   "cell_type": "markdown",
   "metadata": {},
   "source": [
    "Now map the single codes and keep those with 1-2-1 mapping. Print these and manually check the maps"
   ]
  },
  {
   "cell_type": "code",
   "execution_count": null,
   "metadata": {},
   "outputs": [],
   "source": [
    "single_cms <- single_codes |> \n",
    "  filter(has_cms) |> \n",
    "  crossing(cms) |>\n",
    "  filter(\n",
    "    hwa_code == cms_code\n",
    "  ) \n",
    "options(width=200)\n",
    "single_cms |> \n",
    "  select(hwa_code, hwa_desc, cms_desc, cms_code) |>\n",
    "  print(n=400)"
   ]
  },
  {
   "cell_type": "markdown",
   "metadata": {},
   "source": [
    "Describe the single codes with 1-2-1 maps"
   ]
  },
  {
   "cell_type": "code",
   "execution_count": null,
   "metadata": {},
   "outputs": [],
   "source": [
    "describe_function(single_cms, hwa_code)"
   ]
  },
  {
   "cell_type": "markdown",
   "metadata": {},
   "source": [
    "All of the single codes with 1-2-1 maps look OK, except T07. In ICD-10-CM, T07 has sub codes for Suicide attempt, and thus should not be included. This code will be removed. All other can be safely mapped, and thier sub-codes can be safely extracted. Map these and describe the dataset"
   ]
  },
  {
   "cell_type": "code",
   "execution_count": null,
   "metadata": {},
   "outputs": [],
   "source": [
    "single_cms_mapped <- single_cms |> \n",
    "  filter(hwa_code != \"T07\") |> \n",
    "  select(-cms_desc, -cms_code) |>\n",
    "  crossing(cms) |>\n",
    "  filter(\n",
    "    startsWith(cms_code, hwa_code)\n",
    "  ) |> \n",
    "  # I dont need the codes I have already mapped using the parent codes\n",
    "  anti_join(\n",
    "    parent_cms_join,\n",
    "    join_by(cms_code)\n",
    "  )  \n",
    "  \n",
    "describe_function(single_cms_mapped, cms_code)"
   ]
  },
  {
   "cell_type": "code",
   "execution_count": 23,
   "metadata": {},
   "outputs": [],
   "source": [
    "cms_join <- bind_rows(parent_cms_join, single_cms_mapped)"
   ]
  },
  {
   "cell_type": "code",
   "execution_count": null,
   "metadata": {},
   "outputs": [],
   "source": [
    "describe_function(cms_join, cms_code)"
   ]
  },
  {
   "cell_type": "markdown",
   "metadata": {},
   "source": [
    "Now examine the single codes without 1-2-1 mapping"
   ]
  },
  {
   "cell_type": "code",
   "execution_count": null,
   "metadata": {},
   "outputs": [],
   "source": [
    "single_nocms <- hwa |> \n",
    "  filter(!has_cms, !has_child & !is_child)\n",
    "\n",
    "describe_function(single_nocms, hwa_code)"
   ]
  },
  {
   "cell_type": "code",
   "execution_count": null,
   "metadata": {},
   "outputs": [],
   "source": [
    "single_nocms |>\n",
    "  print(n=120)"
   ]
  },
  {
   "cell_type": "markdown",
   "metadata": {},
   "source": [
    "It is posisble that these codes could be mapped using their chapter, i.e. by taking the code 1 level up and seeing if   \n",
    "- Step 1) those codes are suitable (MSK)    \n",
    "and    \n",
    "- Step 2) whether they have 1-2-1 CMS maps   \n",
    "\n",
    "Step 1:"
   ]
  },
  {
   "cell_type": "code",
   "execution_count": null,
   "metadata": {},
   "outputs": [],
   "source": [
    "single_nocms <- single_nocms |> \n",
    "  mutate(\n",
    "    short_code = case_when(\n",
    "      str_count(hwa_code) > 3 ~ str_sub(hwa_code, 1, -2),\n",
    "      T ~ hwa_code\n",
    "    )\n",
    "  ) |> \n",
    "  left_join(\n",
    "    who_2019,\n",
    "    join_by(short_code == who_code)\n",
    "  ) \n",
    "\n",
    "options(width=200)\n",
    "single_nocms |>\n",
    "  select(hwa_code,short_code, hwa_desc, who_desc) |>\n",
    "  print(n=120)"
   ]
  },
  {
   "cell_type": "markdown",
   "metadata": {},
   "source": [
    "THey all look fine. See how many have 1-2-1 mapping in the CMS list"
   ]
  },
  {
   "cell_type": "code",
   "execution_count": null,
   "metadata": {},
   "outputs": [],
   "source": [
    "single_nocms_map <- single_nocms |> \n",
    "  select(hwa_code, hwa_desc, short_code, code_length, code_letter) |>\n",
    "  crossing(cms) |>\n",
    "  filter(\n",
    "   cms_code == short_code\n",
    "  )\n",
    "options(width=200)\n",
    "single_nocms_map |>\n",
    "  select(hwa_code, hwa_desc, cms_desc, short_code,cms_code) |>\n",
    "  print(n=120)"
   ]
  },
  {
   "cell_type": "markdown",
   "metadata": {},
   "source": [
    "Of these, the following codes will need to be removed:\n",
    "Z094 - not an MSK FU   \n",
    "T141, T143,T144, T146: the mapping is too vague in ICD-10-CM, T14 contains subcodes for suicide   "
   ]
  },
  {
   "cell_type": "code",
   "execution_count": null,
   "metadata": {},
   "outputs": [],
   "source": [
    "single_nocms_map <- single_nocms_map |>\n",
    "  filter(\n",
    "    !short_code %in% c(\"Z094\", \"T141\", \"T143\", \"T144\", \"T146\")\n",
    "  ) |> \n",
    "  select(hwa_code, hwa_desc, short_code, code_length, code_letter) |> \n",
    "  crossing(cms) |>\n",
    "  filter(\n",
    "    startsWith(cms_code, short_code)\n",
    "  ) |> \n",
    "  select(-short_code) |> \n",
    "  # I dont need the codes I have already mapped using the parent  and single codes with 1-2-1 maps\n",
    "  anti_join(\n",
    "    cms_join,\n",
    "    join_by(cms_code)\n",
    "  ) \n",
    "\n",
    "describe_function(single_nocms_map, cms_code)\n",
    "  "
   ]
  },
  {
   "cell_type": "markdown",
   "metadata": {},
   "source": [
    "Create the final dataset. Use the allow combinations tribble to keep codes of the correct length for each code letter"
   ]
  },
  {
   "cell_type": "code",
   "execution_count": 30,
   "metadata": {},
   "outputs": [],
   "source": [
    "cms_final <- bind_rows(cms_join, single_nocms_map) "
   ]
  },
  {
   "cell_type": "markdown",
   "metadata": {},
   "source": [
    "# Describe the final codes"
   ]
  },
  {
   "cell_type": "code",
   "execution_count": null,
   "metadata": {},
   "outputs": [],
   "source": [
    "describe_function(cms_final, cms_code)"
   ]
  },
  {
   "cell_type": "code",
   "execution_count": 39,
   "metadata": {},
   "outputs": [],
   "source": [
    "hwa_figure_a <- hwa |> \n",
    "  mutate(\n",
    "    letter = str_sub(hwa_code, 1, 1)\n",
    "  )  |> \n",
    "  group_by(letter) |>\n",
    "  mutate(\n",
    "    letter = factor(letter, \n",
    "    # levels = c(\"Not Mapped\",\"M\",\"S\",\"T\",\"D\", \"G\",\"I\",\"Q\",\"R\")\n",
    "    ),\n",
    "    n = round(n()/nrow(hwa)*100,1)\n",
    "  ) |>\n",
    "  ungroup() |> \n",
    "  distinct(letter, n) |> \n",
    "  mutate(\n",
    "    code = \"hwa\"\n",
    "  )\n",
    "\n",
    "hwa_figure_b <- hwa |>\n",
    "  left_join(\n",
    "    cms_final,\n",
    "      join_by(hwa_code)\n",
    "  ) |> \n",
    "  filter(\n",
    "    !is.na(cms_code)\n",
    "  ) |>\n",
    "  mutate(\n",
    "    letter = ifelse(is.na(cms_code), \"Not Mapped\", str_sub(cms_code, 1, 1))\n",
    "  ) |>\n",
    "  group_by(letter) |>\n",
    "  mutate(\n",
    "    n = round(n()/nrow(cms_final)*100,1)\n",
    "  ) |>\n",
    "  ungroup() |>\n",
    "  distinct(letter, n) |>\n",
    "  mutate(\n",
    "    letter = factor(\n",
    "      letter, \n",
    "      # levels = c(\"Not Mapped\",\"M\",\"S\",\"T\",\"D\", \"G\",\"I\",\"Q\",\"R\")\n",
    "    ),\n",
    "    code = \"CMS\"\n",
    "  )\n",
    "\n",
    "hwa_figure <- hwa_figure_a |>\n",
    "  bind_rows(hwa_figure_b) |> \n",
    "  mutate(\n",
    "    code = ifelse(code == \"hwa\", \"ICD-10-AM\", \"ICD-10-CM\"),\n",
    "    code = factor(\n",
    "      code, \n",
    "      levels = c(\"ICD-10-AM\", \"ICD-10-CM\")\n",
    "    )\n",
    "  )"
   ]
  },
  {
   "cell_type": "markdown",
   "metadata": {},
   "source": [
    "# Save"
   ]
  },
  {
   "cell_type": "code",
   "execution_count": 40,
   "metadata": {},
   "outputs": [],
   "source": [
    "write.csv(cms_join, \"hwa_joined.csv\")\n",
    "write.csv(hwa_figure, \"hwa_figure.csv\")"
   ]
  }
 ],
 "metadata": {
  "kernelspec": {
   "display_name": "R",
   "language": "R",
   "name": "ir"
  },
  "language_info": {
   "name": "r"
  }
 },
 "nbformat": 4,
 "nbformat_minor": 2
}
