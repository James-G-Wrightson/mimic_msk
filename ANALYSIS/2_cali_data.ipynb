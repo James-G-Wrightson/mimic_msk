{
 "cells": [
  {
   "cell_type": "code",
   "execution_count": null,
   "id": "6360d8e3",
   "metadata": {
    "vscode": {
     "languageId": "r"
    }
   },
   "outputs": [],
   "source": [
    "if(!require(\"pacman\")) install.packages(\"pacman\")\n",
    "pacman::p_load(tidyverse, readxl, arrow)"
   ]
  },
  {
   "cell_type": "code",
   "execution_count": 24,
   "id": "aa452724",
   "metadata": {
    "vscode": {
     "languageId": "r"
    }
   },
   "outputs": [],
   "source": [
    "cali_df  <- read_xlsx(\n",
    "  \"california.xlsx\", \n",
    "  col_types = c(\"numeric\", \"text\", \"text\", \"numeric\",\"numeric\",\"numeric\"), \n",
    "  na=\"\") |> \n",
    "  mutate(\n",
    "    icd_code = map_chr(code, ~str_replace(.,\"\\\\.\", \"\")),\n",
    "    primary = if_else(is.na(primary), 0, primary)\n",
    "  ) |> \n",
    "  filter(\n",
    "    year %in% c(2015,2016,2017,2018,2019)\n",
    "  ) |> \n",
    "  # create a column which groups all icd_codes and calculates sum count\n",
    "  group_by(icd_code) |> \n",
    "  mutate(primary_count = sum(primary)) |> \n",
    "  ungroup() |> \n",
    "  # create a df with only distinct codes\n",
    "  distinct(icd_code,primary_count, .keep_all = T) |> \n",
    "  arrange(code) \n"
   ]
  },
  {
   "cell_type": "code",
   "execution_count": 26,
   "id": "7dc2c6dc",
   "metadata": {
    "vscode": {
     "languageId": "r"
    }
   },
   "outputs": [],
   "source": [
    "write_parquet(cali_df, \"cali_df.parquet\")"
   ]
  }
 ],
 "metadata": {
  "kernelspec": {
   "display_name": "R",
   "language": "R",
   "name": "ir"
  },
  "language_info": {
   "codemirror_mode": "r",
   "file_extension": ".r",
   "mimetype": "text/x-r-source",
   "name": "R",
   "pygments_lexer": "r",
   "version": "4.5.0"
  }
 },
 "nbformat": 4,
 "nbformat_minor": 5
}
