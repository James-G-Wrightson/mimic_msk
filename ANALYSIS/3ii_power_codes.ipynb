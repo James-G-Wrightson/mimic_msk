{
 "cells": [
  {
   "cell_type": "markdown",
   "metadata": {},
   "source": [
    "# Data"
   ]
  },
  {
   "cell_type": "code",
   "execution_count": 1,
   "metadata": {},
   "outputs": [
    {
     "name": "stdout",
     "output_type": "stream",
     "text": [
      "Loading required package: pacman\n"
     ]
    }
   ],
   "source": [
    "# R PACKAGES\n",
    "if(!require(\"pacman\")) install.packages(\"pacman\")\n",
    "pacman::p_load(arrow, tidyverse, janitor, readxl, stringdist, ggalluvial)"
   ]
  },
  {
   "cell_type": "code",
   "execution_count": 2,
   "metadata": {},
   "outputs": [
    {
     "name": "stderr",
     "output_type": "stream",
     "text": [
      "Warning message:\n",
      "\u001b[1m\u001b[22mOne or more parsing issues, call `problems()` on your data frame for details, e.g.:\n",
      "  dat <- vroom(...)\n",
      "  problems(dat) \n"
     ]
    }
   ],
   "source": [
    "#CMS ICD10 CM code list\n",
    "cms <- read_lines(\n",
    "  \"icd10cm_order_2019.txt\") |> \n",
    "  as_tibble() |> \n",
    "  separate_wider_regex(\n",
    "    value,\n",
    "    patterns = c(\n",
    "    id = \"[^\\\\s]+\",         # First non-whitespace block\n",
    "    \"\\\\s+\",                 # One or more spaces\n",
    "    rest = \".*\"             # Everything else\n",
    "      )\n",
    "  ) |> \n",
    "  separate_wider_regex(\n",
    "    rest,\n",
    "    patterns = c(\n",
    "      cms_code = \"[^\\\\s]+\",         # First non-whitespace block\n",
    "      \"\\\\s+\",                 # One or more spaces\n",
    "      rest_again = \".*\"             # Everything else\n",
    "    )\n",
    "  ) |> \n",
    "  separate_wider_regex(\n",
    "    rest_again,\n",
    "    patterns = c(\n",
    "      level = \"[^\\\\s]+\",         # First non-whitespace block\n",
    "      \"\\\\s+\",                 # One or more spaces\n",
    "      rest_desc = \".*\"             # Everything else\n",
    "    )\n",
    "  ) |> \n",
    "  mutate(\n",
    "    rest_desc = str_replace_all(rest_desc, \"\\\\s{2,}\", \"!!!\")\n",
    "  ) |> \n",
    "    separate_wider_delim(\n",
    "      rest_desc,\n",
    "      delim = \"!!!\",\n",
    "      too_few = \"align_start\",\n",
    "      too_many = 'merge',\n",
    "      names = c(\"cms_desc\", \"cms_desc_long\")\n",
    "    ) |> \n",
    "  select(cms_code, cms_desc) |> \n",
    "  distinct(cms_code, .keep_all = T)\n",
    "\n",
    "who_2019 <- read_delim(\n",
    "  \"icd102019syst_codes.txt\", \n",
    "  delim = \";\", \n",
    "  col_names=F, \n",
    "  show_col_types=F\n",
    ") |> \n",
    "  select(\n",
    "    who_code = X8, \n",
    "    who_desc = X9\n",
    "  ) \n",
    "power_codes <- read_csv('power_10.csv', show_col_types = FALSE) |> \n",
    "  clean_names() |> \n",
    "  select(-1) |> \n",
    "  mutate(\n",
    "      power_code = str_remove_all(exp_codes, \"[:punct:]\")\n",
    "  ) |> \n",
    "  select(-exp_codes) |> \n",
    "  left_join(\n",
    "      who_2019,\n",
    "      join_by(power_code == who_code)\n",
    "  ) |> \n",
    "  distinct(power_code, .keep_all = T)\n",
    "\n",
    "write_csv(power_codes, \"power_codes.csv\")"
   ]
  },
  {
   "cell_type": "markdown",
   "metadata": {},
   "source": [
    "Check if any of the power codea are not official WHO ICd-10 codes"
   ]
  },
  {
   "cell_type": "code",
   "execution_count": 32,
   "metadata": {},
   "outputs": [
    {
     "name": "stdout",
     "output_type": "stream",
     "text": [
      "\u001b[38;5;246m# A tibble: 2 × 3\u001b[39m\n",
      "  power_label      power_code who_desc\n",
      "  \u001b[3m\u001b[38;5;246m<chr>\u001b[39m\u001b[23m            \u001b[3m\u001b[38;5;246m<chr>\u001b[39m\u001b[23m      \u001b[3m\u001b[38;5;246m<chr>\u001b[39m\u001b[23m   \n",
      "\u001b[38;5;250m1\u001b[39m Non-trauma spine M52        \u001b[31mNA\u001b[39m      \n",
      "\u001b[38;5;250m2\u001b[39m Synovitis        M69        \u001b[31mNA\u001b[39m      \n"
     ]
    }
   ],
   "source": [
    "power_codes |> \n",
    "  filter(is.na(who_desc)) |> \n",
    "  print()"
   ]
  },
  {
   "cell_type": "markdown",
   "metadata": {},
   "source": [
    "These are fine, they are codes within ranges provded by power, and thus may not have been meant to be included and can be removed"
   ]
  },
  {
   "cell_type": "code",
   "execution_count": 33,
   "metadata": {},
   "outputs": [],
   "source": [
    "power_codes <- power_codes |>\n",
    "  filter(! power_code %in% c(\"M52\", \"M69\"))"
   ]
  },
  {
   "cell_type": "markdown",
   "metadata": {},
   "source": [
    "Describe the orginal code set"
   ]
  },
  {
   "cell_type": "code",
   "execution_count": 34,
   "metadata": {},
   "outputs": [
    {
     "name": "stdout",
     "output_type": "stream",
     "text": [
      "[1] \"There are 164 codes in the power set\"\n"
     ]
    }
   ],
   "source": [
    "print(\n",
    "  paste(\n",
    "    \"There are\",\n",
    "    nrow(power_codes),\n",
    "    \"codes in the power set\"\n",
    "  )\n",
    ")"
   ]
  },
  {
   "cell_type": "code",
   "execution_count": 35,
   "metadata": {},
   "outputs": [
    {
     "name": "stdout",
     "output_type": "stream",
     "text": [
      "[1] \"Number of codes by letter:\"\n",
      "\u001b[38;5;246m# A tibble: 3 × 2\u001b[39m\n",
      "\u001b[38;5;246m# Groups:   code_letter [3]\u001b[39m\n",
      "  code_letter     n\n",
      "  \u001b[3m\u001b[38;5;246m<chr>\u001b[39m\u001b[23m       \u001b[3m\u001b[38;5;246m<int>\u001b[39m\u001b[23m\n",
      "\u001b[38;5;250m1\u001b[39m M              85\n",
      "\u001b[38;5;250m2\u001b[39m S              63\n",
      "\u001b[38;5;250m3\u001b[39m T              16\n"
     ]
    }
   ],
   "source": [
    "print(\"Number of codes by letter:\")\n",
    "power_codes <- power_codes |> \n",
    "  mutate(\n",
    "    code_letter = str_sub(power_code, 1, 1)\n",
    "  )\n",
    "power_codes|> \n",
    "  group_by(code_letter) |>\n",
    "  count() |>\n",
    "  print()"
   ]
  },
  {
   "cell_type": "code",
   "execution_count": 36,
   "metadata": {},
   "outputs": [
    {
     "name": "stdout",
     "output_type": "stream",
     "text": [
      "[1] \"Number of codes by code length:\"\n",
      "\u001b[38;5;246m# A tibble: 2 × 2\u001b[39m\n",
      "\u001b[38;5;246m# Groups:   code_length [2]\u001b[39m\n",
      "  code_length     n\n",
      "        \u001b[3m\u001b[38;5;246m<int>\u001b[39m\u001b[23m \u001b[3m\u001b[38;5;246m<int>\u001b[39m\u001b[23m\n",
      "\u001b[38;5;250m1\u001b[39m           3    88\n",
      "\u001b[38;5;250m2\u001b[39m           4    76\n"
     ]
    }
   ],
   "source": [
    "print(\"Number of codes by code length:\")\n",
    "power_codes <- power_codes |> \n",
    "  mutate(\n",
    "    code_length = str_count(power_code)\n",
    "  ) \n",
    "power_codes |>\n",
    "  group_by(code_length) |>\n",
    "  count() |>\n",
    "  print()"
   ]
  },
  {
   "cell_type": "code",
   "execution_count": 37,
   "metadata": {},
   "outputs": [
    {
     "name": "stdout",
     "output_type": "stream",
     "text": [
      "\u001b[38;5;246m# A tibble: 6 × 3\u001b[39m\n",
      "\u001b[38;5;246m# Groups:   code_letter, code_length [6]\u001b[39m\n",
      "  code_letter code_length     n\n",
      "  \u001b[3m\u001b[38;5;246m<chr>\u001b[39m\u001b[23m             \u001b[3m\u001b[38;5;246m<int>\u001b[39m\u001b[23m \u001b[3m\u001b[38;5;246m<int>\u001b[39m\u001b[23m\n",
      "\u001b[38;5;250m1\u001b[39m M                     3    77\n",
      "\u001b[38;5;250m2\u001b[39m M                     4     8\n",
      "\u001b[38;5;250m3\u001b[39m S                     3     8\n",
      "\u001b[38;5;250m4\u001b[39m S                     4    55\n",
      "\u001b[38;5;250m5\u001b[39m T                     3     3\n",
      "\u001b[38;5;250m6\u001b[39m T                     4    13\n"
     ]
    }
   ],
   "source": [
    "power_codes |> \n",
    "  group_by(code_letter, code_length) |> \n",
    "  count() |>\n",
    "  print(\n",
    "  )\n"
   ]
  },
  {
   "cell_type": "markdown",
   "metadata": {},
   "source": [
    "Try and map the code 1-2-1 with the CMS codes"
   ]
  },
  {
   "cell_type": "code",
   "execution_count": 38,
   "metadata": {},
   "outputs": [
    {
     "name": "stdout",
     "output_type": "stream",
     "text": [
      "[1] \"There are 136 codes in the power set that map to CMS codes\"\n"
     ]
    }
   ],
   "source": [
    "power_121 <- power_codes |>\n",
    "  crossing(cms) |>\n",
    "  filter(cms_code==power_code)\n",
    "\n",
    "print(\n",
    "  paste(\n",
    "    \"There are\",\n",
    "    nrow(power_121),\n",
    "    \"codes in the power set that map to CMS codes\"\n",
    "  )\n",
    ")"
   ]
  },
  {
   "cell_type": "code",
   "execution_count": 39,
   "metadata": {},
   "outputs": [
    {
     "name": "stdout",
     "output_type": "stream",
     "text": [
      "\u001b[38;5;246m# A tibble: 136 × 4\u001b[39m\n",
      "    power_code who_desc                                                                                    cms_desc                                                                             cms_code\n",
      "    \u001b[3m\u001b[38;5;246m<chr>\u001b[39m\u001b[23m      \u001b[3m\u001b[38;5;246m<chr>\u001b[39m\u001b[23m                                                                                       \u001b[3m\u001b[38;5;246m<chr>\u001b[39m\u001b[23m                                                                                \u001b[3m\u001b[38;5;246m<chr>\u001b[39m\u001b[23m   \n",
      "\u001b[38;5;250m  1\u001b[39m M45        Ankylosing spondylitis                                                                      Ankylosing spondylitis                                                               M45     \n",
      "\u001b[38;5;250m  2\u001b[39m M46        Other inflammatory spondylopathies                                                          Other inflammatory spondylopathies                                                   M46     \n",
      "\u001b[38;5;250m  3\u001b[39m M20        Acquired deformities of fingers and toes                                                    Acquired deformities of fingers and toes                                             M20     \n",
      "\u001b[38;5;250m  4\u001b[39m M484       Fatigue fracture of vertebra                                                                Fatigue fracture of vertebra                                                         M484    \n",
      "\u001b[38;5;250m  5\u001b[39m M485       Collapsed vertebra, not elsewhere classified                                                Collapsed vertebra, not elsewhere classified                                         M485    \n",
      "\u001b[38;5;250m  6\u001b[39m M80        Osteoporosis with pathological fracture                                                     Osteoporosis with current pathological fracture                                      M80     \n",
      "\u001b[38;5;250m  7\u001b[39m M81        Osteoporosis without pathological fracture                                                  Osteoporosis without current pathological fracture                                   M81     \n",
      "\u001b[38;5;250m  8\u001b[39m M83        Adult osteomalacia                                                                          Adult osteomalacia                                                                   M83     \n",
      "\u001b[38;5;250m  9\u001b[39m M84        Disorders of continuity of bone                                                             Disorder of continuity of bone                                                       M84     \n",
      "\u001b[38;5;250m 10\u001b[39m M85        Other disorders of bone density and structure                                               Other disorders of bone density and structure                                        M85     \n",
      "\u001b[38;5;250m 11\u001b[39m M86        Osteomyelitis                                                                               Osteomyelitis                                                                        M86     \n",
      "\u001b[38;5;250m 12\u001b[39m M87        Osteonecrosis                                                                               Osteonecrosis                                                                        M87     \n",
      "\u001b[38;5;250m 13\u001b[39m M88        Paget disease of bone [osteitis deformans]                                                  Osteitis deformans [Paget's disease of bone]                                         M88     \n",
      "\u001b[38;5;250m 14\u001b[39m M89        Other disorders of bone                                                                     Other disorders of bone                                                              M89     \n",
      "\u001b[38;5;250m 15\u001b[39m M90        Osteopathies in diseases classified elsewhere                                               Osteopathies in diseases classified elsewhere                                        M90     \n",
      "\u001b[38;5;250m 16\u001b[39m M91        Juvenile osteochondrosis of hip and pelvis                                                  Juvenile osteochondrosis of hip and pelvis                                           M91     \n",
      "\u001b[38;5;250m 17\u001b[39m M92        Other juvenile osteochondrosis                                                              Other juvenile osteochondrosis                                                       M92     \n",
      "\u001b[38;5;250m 18\u001b[39m M93        Other osteochondropathies                                                                   Other osteochondropathies                                                            M93     \n",
      "\u001b[38;5;250m 19\u001b[39m M94        Other disorders of cartilage                                                                Other disorders of cartilage                                                         M94     \n",
      "\u001b[38;5;250m 20\u001b[39m M30        Polyarteritis nodosa and related conditions                                                 Polyarteritis nodosa and related conditions                                          M30     \n",
      "\u001b[38;5;250m 21\u001b[39m M31        Other necrotizing vasculopathies                                                            Other necrotizing vasculopathies                                                     M31     \n",
      "\u001b[38;5;250m 22\u001b[39m M32        Systemic lupus erythematosus                                                                Systemic lupus erythematosus (SLE)                                                   M32     \n",
      "\u001b[38;5;250m 23\u001b[39m M33        Dermatopolymyositis                                                                         Dermatopolymyositis                                                                  M33     \n",
      "\u001b[38;5;250m 24\u001b[39m M34        Systemic sclerosis                                                                          Systemic sclerosis [scleroderma]                                                     M34     \n",
      "\u001b[38;5;250m 25\u001b[39m M35        Other systemic involvement of connective tissue                                             Other systemic involvement of connective tissue                                      M35     \n",
      "\u001b[38;5;250m 26\u001b[39m M36        Systemic disorders of connective tissue in diseases classified elsewhere                    Systemic disorders of conn tiss in diseases classd elswhr                            M36     \n",
      "\u001b[38;5;250m 27\u001b[39m S42        Fracture of shoulder and upper arm                                                          Fracture of shoulder and upper arm                                                   S42     \n",
      "\u001b[38;5;250m 28\u001b[39m S430       Dislocation of shoulder joint                                                               Subluxation and dislocation of shoulder joint                                        S430    \n",
      "\u001b[38;5;250m 29\u001b[39m S431       Dislocation of acromioclavicular joint                                                      Subluxation and dislocation of acromioclavicular joint                               S431    \n",
      "\u001b[38;5;250m 30\u001b[39m S432       Dislocation of sternoclavicular joint                                                       Subluxation and dislocation of sternoclavicular joint                                S432    \n",
      "\u001b[38;5;250m 31\u001b[39m S433       Dislocation of other and unspecified parts of shoulder girdle                               Subluxation and disloc of and unsp parts of shoulder girdle                          S433    \n",
      "\u001b[38;5;250m 32\u001b[39m S630       Dislocation of wrist                                                                        Subluxation and dislocation of wrist and hand joints                                 S630    \n",
      "\u001b[38;5;250m 33\u001b[39m S631       Dislocation of finger                                                                       Subluxation and dislocation of thumb                                                 S631    \n",
      "\u001b[38;5;250m 34\u001b[39m S632       Multiple dislocations of fingers                                                            Subluxation and dislocation of other finger(s)                                       S632    \n",
      "\u001b[38;5;250m 35\u001b[39m S633       Traumatic rupture of ligament of wrist and carpus                                           Traumatic rupture of ligament of wrist                                               S633    \n",
      "\u001b[38;5;250m 36\u001b[39m S634       Traumatic rupture of ligament of finger at metacarpophalangeal and interphalangeal joint(s) Traum rupt of ligmt of finger at MCP and interphaln joint(s) Traumatic rupture of l… S634    \n",
      "\u001b[38;5;250m 37\u001b[39m S72        Fracture of femur                                                                           Fracture of femur                                                                    S72     \n",
      "\u001b[38;5;250m 38\u001b[39m S730       Dislocation of hip                                                                          Subluxation and dislocation of hip                                                   S730    \n",
      "\u001b[38;5;250m 39\u001b[39m S82        Fracture of lower leg, including ankle                                                      Fracture of lower leg, including ankle                                               S82     \n",
      "\u001b[38;5;250m 40\u001b[39m S830       Dislocation of patella                                                                      Subluxation and dislocation of patella                                               S830    \n",
      "\u001b[38;5;250m 41\u001b[39m S831       Dislocation of knee                                                                         Subluxation and dislocation of knee                                                  S831    \n",
      "\u001b[38;5;250m 42\u001b[39m S92        Fracture of foot, except ankle                                                              Fracture of foot and toe, except ankle                                               S92     \n",
      "\u001b[38;5;250m 43\u001b[39m S930       Dislocation of ankle joint                                                                  Subluxation and dislocation of ankle joint                                           S930    \n",
      "\u001b[38;5;250m 44\u001b[39m S931       Dislocation of toe(s)                                                                       Subluxation and dislocation of toe                                                   S931    \n",
      "\u001b[38;5;250m 45\u001b[39m S933       Dislocation of other and unspecified parts of foot                                          Subluxation and dislocation of foot                                                  S933    \n",
      "\u001b[38;5;250m 46\u001b[39m S530       Dislocation of radial head                                                                  Subluxation and dislocation of radial head                                           S530    \n",
      "\u001b[38;5;250m 47\u001b[39m S531       Dislocation of elbow, unspecified                                                           Subluxation and dislocation of ulnohumeral joint                                     S531    \n",
      "\u001b[38;5;250m 48\u001b[39m S532       Traumatic rupture of radial collateral ligament                                             Traumatic rupture of radial collateral ligament                                      S532    \n",
      "\u001b[38;5;250m 49\u001b[39m S533       Traumatic rupture of ulnar collateral ligament                                              Traumatic rupture of ulnar collateral ligament                                       S533    \n",
      "\u001b[38;5;250m 50\u001b[39m S62        Fracture at wrist and hand level                                                            Fracture at wrist and hand level                                                     S62     \n",
      "\u001b[38;5;250m 51\u001b[39m M10        Gout                                                                                        Gout                                                                                 M10     \n",
      "\u001b[38;5;250m 52\u001b[39m M11        Other crystal arthropathies                                                                 Other crystal arthropathies                                                          M11     \n",
      "\u001b[38;5;250m 53\u001b[39m M14        Arthropathies in other diseases classified elsewhere                                        Arthropathies in other diseases classified elsewhere                                 M14     \n",
      "\u001b[38;5;250m 54\u001b[39m M22        Disorders of patella                                                                        Disorder of patella                                                                  M22     \n",
      "\u001b[38;5;250m 55\u001b[39m M23        Internal derangement of knee                                                                Internal derangement of knee                                                         M23     \n",
      "\u001b[38;5;250m 56\u001b[39m M24        Other specific joint derangements                                                           Other specific joint derangements                                                    M24     \n",
      "\u001b[38;5;250m 57\u001b[39m M40        Kyphosis and lordosis                                                                       Kyphosis and lordosis                                                                M40     \n",
      "\u001b[38;5;250m 58\u001b[39m M41        Scoliosis                                                                                   Scoliosis                                                                            M41     \n",
      "\u001b[38;5;250m 59\u001b[39m M42        Spinal osteochondrosis                                                                      Spinal osteochondrosis                                                               M42     \n",
      "\u001b[38;5;250m 60\u001b[39m M43        Other deforming dorsopathies                                                                Other deforming dorsopathies                                                         M43     \n",
      "\u001b[38;5;250m 61\u001b[39m M47        Spondylosis                                                                                 Spondylosis                                                                          M47     \n",
      "\u001b[38;5;250m 62\u001b[39m M480       Spinal stenosis                                                                             Spinal stenosis                                                                      M480    \n",
      "\u001b[38;5;250m 63\u001b[39m M481       Ankylosing hyperostosis [Forestier]                                                         Ankylosing hyperostosis [Forestier]                                                  M481    \n",
      "\u001b[38;5;250m 64\u001b[39m M482       Kissing spine                                                                               Kissing spine                                                                        M482    \n",
      "\u001b[38;5;250m 65\u001b[39m M483       Traumatic spondylopathy                                                                     Traumatic spondylopathy                                                              M483    \n",
      "\u001b[38;5;250m 66\u001b[39m M488       Other specified spondylopathies                                                             Other specified spondylopathies                                                      M488    \n",
      "\u001b[38;5;250m 67\u001b[39m M489       Spondylopathy, unspecified                                                                  Spondylopathy, unspecified                                                           M489    \n",
      "\u001b[38;5;250m 68\u001b[39m M49        Spondylopathies in diseases classified elsewhere                                            Spondylopathies in diseases classified elsewhere                                     M49     \n",
      "\u001b[38;5;250m 69\u001b[39m M50        Cervical disc disorders                                                                     Cervical disc disorders                                                              M50     \n",
      "\u001b[38;5;250m 70\u001b[39m M51        Other intervertebral disc disorders                                                         Thoracic, thoracolum, and lumbosacral intvrt disc disorders                          M51     \n",
      "\u001b[38;5;250m 71\u001b[39m M53        Other dorsopathies, not elsewhere classified                                                Other and unspecified dorsopathies, not elsewhere classified Other and unspecified … M53     \n",
      "\u001b[38;5;250m 72\u001b[39m M54        Dorsalgia                                                                                   Dorsalgia                                                                            M54     \n",
      "\u001b[38;5;250m 73\u001b[39m M15        Polyarthrosis                                                                               Polyosteoarthritis                                                                   M15     \n",
      "\u001b[38;5;250m 74\u001b[39m M16        Coxarthrosis [arthrosis of hip]                                                             Osteoarthritis of hip                                                                M16     \n",
      "\u001b[38;5;250m 75\u001b[39m M17        Gonarthrosis [arthrosis of knee]                                                            Osteoarthritis of knee                                                               M17     \n",
      "\u001b[38;5;250m 76\u001b[39m M18        Arthrosis of first carpometacarpal joint                                                    Osteoarthritis of first carpometacarpal joint                                        M18     \n",
      "\u001b[38;5;250m 77\u001b[39m M19        Other arthrosis                                                                             Other and unspecified osteoarthritis                                                 M19     \n",
      "\u001b[38;5;250m 78\u001b[39m M13        Other arthritis                                                                             Other arthritis                                                                      M13     \n",
      "\u001b[38;5;250m 79\u001b[39m M96        Postprocedural musculoskeletal disorders, not elsewhere classified                          Intraop and postproc comp and disorders of ms sys, NEC                               M96     \n",
      "\u001b[38;5;250m 80\u001b[39m M99        Biomechanical lesions, not elsewhere classified                                             Biomechanical lesions, not elsewhere classified                                      M99     \n",
      "\u001b[38;5;250m 81\u001b[39m M05        Seropositive rheumatoid arthritis                                                           Rheumatoid arthritis with rheumatoid factor                                          M05     \n",
      "\u001b[38;5;250m 82\u001b[39m M06        Other rheumatoid arthritis                                                                  Other rheumatoid arthritis                                                           M06     \n",
      "\u001b[38;5;250m 83\u001b[39m M07        Psoriatic and enteropathic arthropathies                                                    Enteropathic arthropathies                                                           M07     \n",
      "\u001b[38;5;250m 84\u001b[39m M08        Juvenile arthritis                                                                          Juvenile arthritis                                                                   M08     \n",
      "\u001b[38;5;250m 85\u001b[39m M60        Myositis                                                                                    Myositis                                                                             M60     \n",
      "\u001b[38;5;250m 86\u001b[39m M61        Calcification and ossification of muscle                                                    Calcification and ossification of muscle                                             M61     \n",
      "\u001b[38;5;250m 87\u001b[39m M62        Other disorders of muscle                                                                   Other disorders of muscle                                                            M62     \n",
      "\u001b[38;5;250m 88\u001b[39m M63        Disorders of muscle in diseases classified elsewhere                                        Disorders of muscle in diseases classified elsewhere                                 M63     \n",
      "\u001b[38;5;250m 89\u001b[39m M72        Fibroblastic disorders                                                                      Fibroblastic disorders                                                               M72     \n",
      "\u001b[38;5;250m 90\u001b[39m M75        Shoulder lesions                                                                            Shoulder lesions                                                                     M75     \n",
      "\u001b[38;5;250m 91\u001b[39m M76        Enthesopathies of lower limb, excluding foot                                                Enthesopathies, lower limb, excluding foot                                           M76     \n",
      "\u001b[38;5;250m 92\u001b[39m M77        Other enthesopathies                                                                        Other enthesopathies                                                                 M77     \n",
      "\u001b[38;5;250m 93\u001b[39m M79        Other soft tissue disorders, not elsewhere classified                                       Oth and unsp soft tissue disorders, not elsewhere classified Other and unspecified … M79     \n",
      "\u001b[38;5;250m 94\u001b[39m S12        Fracture of neck                                                                            Fracture of cervical vertebra and other parts of neck                                S12     \n",
      "\u001b[38;5;250m 95\u001b[39m S130       Traumatic rupture of cervical intervertebral disc                                           Traumatic rupture of cervical intervertebral disc                                    S130    \n",
      "\u001b[38;5;250m 96\u001b[39m S132       Dislocation of other and unspecified parts of neck                                          Dislocation of other and unspecified parts of neck                                   S132    \n",
      "\u001b[38;5;250m 97\u001b[39m S134       Sprain and strain of cervical spine                                                         Sprain of ligaments of cervical spine                                                S134    \n",
      "\u001b[38;5;250m 98\u001b[39m S135       Sprain and strain of thyroid region                                                         Sprain of thyroid region                                                             S135    \n",
      "\u001b[38;5;250m 99\u001b[39m S230       Traumatic rupture of thoracic intervertebral disc                                           Traumatic rupture of thoracic intervertebral disc                                    S230    \n",
      "\u001b[38;5;250m100\u001b[39m S231       Dislocation of thoracic vertebra                                                            Subluxation and dislocation of thoracic vertebra                                     S231    \n",
      "\u001b[38;5;250m101\u001b[39m S232       Dislocation of other and unspecified parts of thorax                                        Dislocation of other and unspecified parts of thorax                                 S232    \n",
      "\u001b[38;5;250m102\u001b[39m S32        Fracture of lumbar spine and pelvis                                                         Fracture of lumbar spine and pelvis                                                  S32     \n",
      "\u001b[38;5;250m103\u001b[39m S330       Traumatic rupture of lumbar intervertebral disc                                             Traumatic rupture of lumbar intervertebral disc                                      S330    \n",
      "\u001b[38;5;250m104\u001b[39m S331       Dislocation of lumbar vertebra                                                              Subluxation and dislocation of lumbar vertebra                                       S331    \n",
      "\u001b[38;5;250m105\u001b[39m S332       Dislocation of sacroiliac and sacrococcygeal joint                                          Dislocation of sacroiliac and sacrococcygeal joint                                   S332    \n",
      "\u001b[38;5;250m106\u001b[39m S131       Dislocation of cervical vertebra                                                            Subluxation and dislocation of cervical vertebrae                                    S131    \n",
      "\u001b[38;5;250m107\u001b[39m S233       Sprain and strain of thoracic spine                                                         Sprain of ligaments of thoracic spine                                                S233    \n",
      "\u001b[38;5;250m108\u001b[39m S335       Sprain and strain of lumbar spine                                                           Sprain of ligaments of lumbar spine                                                  S335    \n",
      "\u001b[38;5;250m109\u001b[39m S336       Sprain and strain of sacroiliac joint                                                       Sprain of sacroiliac joint                                                           S336    \n",
      "\u001b[38;5;250m110\u001b[39m S434       Sprain and strain of shoulder joint                                                         Sprain of shoulder joint                                                             S434    \n",
      "\u001b[38;5;250m111\u001b[39m S435       Sprain and strain of acromioclavicular joint                                                Sprain of acromioclavicular joint                                                    S435    \n",
      "\u001b[38;5;250m112\u001b[39m S436       Sprain and strain of sternoclavicular joint                                                 Sprain of sternoclavicular joint                                                     S436    \n",
      "\u001b[38;5;250m113\u001b[39m S52        Fracture of forearm                                                                         Fracture of forearm                                                                  S52     \n",
      "\u001b[38;5;250m114\u001b[39m S534       Sprain and strain of elbow                                                                  Sprain of elbow                                                                      S534    \n",
      "\u001b[38;5;250m115\u001b[39m S635       Sprain and strain of wrist                                                                  Other and unspecified sprain of wrist                                                S635    \n",
      "\u001b[38;5;250m116\u001b[39m S636       Sprain and strain of finger(s)                                                              Other and unspecified sprain of finger(s)                                            S636    \n",
      "\u001b[38;5;250m117\u001b[39m S731       Sprain and strain of hip                                                                    Sprain of hip                                                                        S731    \n",
      "\u001b[38;5;250m118\u001b[39m S832       Tear of meniscus, current                                                                   Tear of meniscus, current injury                                                     S832    \n",
      "\u001b[38;5;250m119\u001b[39m S833       Tear of articular cartilage of knee, current                                                Tear of articular cartilage of knee, current                                         S833    \n",
      "\u001b[38;5;250m120\u001b[39m S834       Sprain and strain involving (fibular)(tibial) collateral ligament of knee                   Sprain of collateral ligament of knee                                                S834    \n",
      "\u001b[38;5;250m121\u001b[39m S835       Sprain and strain involving (anterior)(posterior) cruciate ligament of knee                 Sprain of cruciate ligament of knee                                                  S835    \n",
      "\u001b[38;5;250m122\u001b[39m S836       Sprain and strain of other and unspecified parts of knee                                    Sprain of the superior tibiofibular joint and ligament                               S836    \n",
      "\u001b[38;5;250m123\u001b[39m S934       Sprain and strain of ankle                                                                  Sprain of ankle                                                                      S934    \n",
      "\u001b[38;5;250m124\u001b[39m S935       Sprain and strain of toe(s)                                                                 Sprain of toe                                                                        S935    \n",
      "\u001b[38;5;250m125\u001b[39m S936       Sprain and strain of other and unspecified parts of foot                                    Sprain of foot                                                                       S936    \n",
      "\u001b[38;5;250m126\u001b[39m M65        Synovitis and tenosynovitis                                                                 Synovitis and tenosynovitis                                                          M65     \n",
      "\u001b[38;5;250m127\u001b[39m M66        Spontaneous rupture of synovium and tendon                                                  Spontaneous rupture of synovium and tendon                                           M66     \n",
      "\u001b[38;5;250m128\u001b[39m M67        Other disorders of synovium and tendon                                                      Other disorders of synovium and tendon                                               M67     \n",
      "\u001b[38;5;250m129\u001b[39m M70        Soft tissue disorders related to use, overuse and pressure                                  Soft tissue disorders related to use, overuse and pressure                           M70     \n",
      "\u001b[38;5;250m130\u001b[39m M71        Other bursopathies                                                                          Other bursopathies                                                                   M71     \n",
      "\u001b[38;5;250m131\u001b[39m M00        Pyogenic arthritis                                                                          Pyogenic arthritis                                                                   M00     \n",
      "\u001b[38;5;250m132\u001b[39m M01        Direct infections of joint in infectious and parasitic diseases classified elsewhere        Direct infect of joint in infec/parastc dis classd elswhr                            M01     \n",
      "\u001b[38;5;250m133\u001b[39m M02        Reactive arthropathies                                                                      Postinfective and reactive arthropathies                                             M02     \n",
      "\u001b[38;5;250m134\u001b[39m M12        Other specific arthropathies                                                                Other and unspecified arthropathy                                                    M12     \n",
      "\u001b[38;5;250m135\u001b[39m M21        Other acquired deformities of limbs                                                         Other acquired deformities of limbs                                                  M21     \n",
      "\u001b[38;5;250m136\u001b[39m M25        Other joint disorders, not elsewhere classified                                             Other joint disorder, not elsewhere classified                                       M25     \n"
     ]
    }
   ],
   "source": [
    "options(width = 200)\n",
    "power_121 |> \n",
    "  select(power_code, who_desc, cms_desc, cms_code,) |>\n",
    "  print(n=140)"
   ]
  },
  {
   "cell_type": "markdown",
   "metadata": {},
   "source": [
    "These look like good 1-2-1 maps, and that the sub-codes could be etracted from CMS"
   ]
  },
  {
   "cell_type": "code",
   "execution_count": 40,
   "metadata": {},
   "outputs": [],
   "source": [
    "power_121 <- power_121 |> \n",
    "  select(power_code, who_desc) |>\n",
    "  crossing(cms) |> \n",
    "  filter(\n",
    "    startsWith(cms_code, power_code)\n",
    "  )"
   ]
  },
  {
   "cell_type": "code",
   "execution_count": 41,
   "metadata": {},
   "outputs": [
    {
     "name": "stdout",
     "output_type": "stream",
     "text": [
      "Rows: 27,474\n",
      "Columns: 4\n",
      "$ power_code \u001b[3m\u001b[38;5;246m<chr>\u001b[39m\u001b[23m \"M00\"\u001b[38;5;246m, \u001b[39m\"M00\"\u001b[38;5;246m, \u001b[39m\"M00\"\u001b[38;5;246m, \u001b[39m\"M00\"\u001b[38;5;246m, \u001b[39m\"M00\"\u001b[38;5;246m, \u001b[39m\"M00\"\u001b[38;5;246m, \u001b[39m\"M00\"\u001b[38;5;246m, \u001b[39m\"M00\"\u001b[38;5;246m, \u001b[39m\"M00\"\u001b[38;5;246m, \u001b[39m\"M00\"\u001b[38;5;246m, \u001b[39m\"M00\"\u001b[38;5;246m, \u001b[39m\"M00\"\u001b[38;5;246m, \u001b[39m\"M00\"\u001b[38;5;246m, \u001b[39m\"M00\"\u001b[38;5;246m, \u001b[39m\"M00\"\u001b[38;5;246m, \u001b[39m\"M00\"\u001b[38;5;246m, \u001b[39m\"M00\"\u001b[38;5;246m, \u001b[39m\"M00\"\u001b[38;5;246m, \u001b[39m\"M00\"\u001b[38;5;246m, \u001b[39m\"M00\"\u001b[38;5;246m, \u001b[39m\"M00\"\u001b[38;5;246m, \u001b[39m\"M00\"\u001b[38;5;246m, \u001b[39m\"M00\"\u001b[38;5;246m, \u001b[39m\"M00\"\u001b[38;5;246m, \u001b[39m\"M00\"\u001b[38;5;246m, \u001b[39m\"M00…\n",
      "$ who_desc   \u001b[3m\u001b[38;5;246m<chr>\u001b[39m\u001b[23m \"Pyogenic arthritis\"\u001b[38;5;246m, \u001b[39m\"Pyogenic arthritis\"\u001b[38;5;246m, \u001b[39m\"Pyogenic arthritis\"\u001b[38;5;246m, \u001b[39m\"Pyogenic arthritis\"\u001b[38;5;246m, \u001b[39m\"Pyogenic arthritis\"\u001b[38;5;246m, \u001b[39m\"Pyogenic arthritis\"\u001b[38;5;246m, \u001b[39m\"Pyogenic arthritis\"\u001b[38;5;246m, \u001b[39m\"Pyogenic arthritis\"\u001b[38;5;246m, \u001b[39m\"Py…\n",
      "$ cms_code   \u001b[3m\u001b[38;5;246m<chr>\u001b[39m\u001b[23m \"M00\"\u001b[38;5;246m, \u001b[39m\"M000\"\u001b[38;5;246m, \u001b[39m\"M0000\"\u001b[38;5;246m, \u001b[39m\"M0001\"\u001b[38;5;246m, \u001b[39m\"M00011\"\u001b[38;5;246m, \u001b[39m\"M00012\"\u001b[38;5;246m, \u001b[39m\"M00019\"\u001b[38;5;246m, \u001b[39m\"M0002\"\u001b[38;5;246m, \u001b[39m\"M00021\"\u001b[38;5;246m, \u001b[39m\"M00022\"\u001b[38;5;246m, \u001b[39m\"M00029\"\u001b[38;5;246m, \u001b[39m\"M0003\"\u001b[38;5;246m, \u001b[39m\"M00031\"\u001b[38;5;246m, \u001b[39m\"M00032\"\u001b[38;5;246m, \u001b[39m\"M00039\"\u001b[38;5;246m, \u001b[39m\"M0004\"\u001b[38;5;246m, \u001b[39m\"M00041\"\u001b[38;5;246m, \u001b[39m\"M00042\"\u001b[38;5;246m, \u001b[39m\"M00049\"\u001b[38;5;246m,\u001b[39m…\n",
      "$ cms_desc   \u001b[3m\u001b[38;5;246m<chr>\u001b[39m\u001b[23m \"Pyogenic arthritis\"\u001b[38;5;246m, \u001b[39m\"Staphylococcal arthritis and polyarthritis\"\u001b[38;5;246m, \u001b[39m\"Staphylococcal arthritis, unspecified joint\"\u001b[38;5;246m, \u001b[39m\"Staphylococcal arthritis, shoulder\"\u001b[38;5;246m, \u001b[39m\"Staphylococcal arthritis,…\n"
     ]
    }
   ],
   "source": [
    "power_121 |> \n",
    "  glimpse()"
   ]
  },
  {
   "cell_type": "markdown",
   "metadata": {},
   "source": [
    "Examine the codes that did not have a 1-2-1 map"
   ]
  },
  {
   "cell_type": "code",
   "execution_count": 42,
   "metadata": {},
   "outputs": [
    {
     "name": "stdout",
     "output_type": "stream",
     "text": [
      "\u001b[1m\u001b[22mJoining with `by = join_by(power_code, who_desc)`\n",
      "\u001b[38;5;246m# A tibble: 28 × 2\u001b[39m\n",
      "   power_code who_desc                                                                                         \n",
      "   \u001b[3m\u001b[38;5;246m<chr>\u001b[39m\u001b[23m      \u001b[3m\u001b[38;5;246m<chr>\u001b[39m\u001b[23m                                                                                            \n",
      "\u001b[38;5;250m 1\u001b[39m M03        Postinfective and reactive arthropathies in diseases classified elsewhere                        \n",
      "\u001b[38;5;250m 2\u001b[39m M09        Juvenile arthritis in diseases classified elsewhere                                              \n",
      "\u001b[38;5;250m 3\u001b[39m M68        Disorders of synovium and tendon in diseases classified elsewhere                                \n",
      "\u001b[38;5;250m 4\u001b[39m M73        Soft tissue disorders in diseases classified elsewhere                                           \n",
      "\u001b[38;5;250m 5\u001b[39m M82        Osteoporosis in diseases classified elsewhere                                                    \n",
      "\u001b[38;5;250m 6\u001b[39m S133       Multiple dislocations of neck                                                                    \n",
      "\u001b[38;5;250m 7\u001b[39m S221       Multiple fractures of thoracic spine                                                             \n",
      "\u001b[38;5;250m 8\u001b[39m S337       Sprain and strain of other and unspecified parts of lumbar spine and pelvis                      \n",
      "\u001b[38;5;250m 9\u001b[39m S437       Sprain and strain of other and unspecified parts of shoulder girdle                              \n",
      "\u001b[38;5;250m10\u001b[39m S637       Sprain and strain of other and unspecified parts of hand                                         \n",
      "\u001b[38;5;250m11\u001b[39m S837       Injury to multiple structures of knee                                                            \n",
      "\u001b[38;5;250m12\u001b[39m S932       Rupture of ligaments at ankle and foot level                                                     \n",
      "\u001b[38;5;250m13\u001b[39m T021       Fractures involving thorax with lower back and pelvis                                            \n",
      "\u001b[38;5;250m14\u001b[39m T022       Fractures involving multiple regions of one upper limb                                           \n",
      "\u001b[38;5;250m15\u001b[39m T023       Fractures involving multiple regions of one lower limb                                           \n",
      "\u001b[38;5;250m16\u001b[39m T024       Fractures involving multiple regions of both upper limbs                                         \n",
      "\u001b[38;5;250m17\u001b[39m T025       Fractures involving multiple regions of both lower limbs                                         \n",
      "\u001b[38;5;250m18\u001b[39m T026       Fractures involving multiple regions of upper limb(s) with lower limb(s)                         \n",
      "\u001b[38;5;250m19\u001b[39m T027       Fractures involving thorax with lower back and pelvis with limb(s)                               \n",
      "\u001b[38;5;250m20\u001b[39m T031       Dislocations, sprains and strains involving thorax with lower back and pelvis                    \n",
      "\u001b[38;5;250m21\u001b[39m T032       Dislocations, sprains and strains involving multiple regions of upper limb(s)                    \n",
      "\u001b[38;5;250m22\u001b[39m T033       Dislocations, sprains and strains involving multiple regions of lower limb(s)                    \n",
      "\u001b[38;5;250m23\u001b[39m T034       Dislocations, sprains and strains involving multiple regions of upper limb(s) with lower limb(s) \n",
      "\u001b[38;5;250m24\u001b[39m T08        Fracture of spine, level unspecified                                                             \n",
      "\u001b[38;5;250m25\u001b[39m T10        Fracture of upper limb, level unspecified                                                        \n",
      "\u001b[38;5;250m26\u001b[39m T112       Dislocation, sprain and strain of unspecified joint and ligament of upper limb, level unspecified\n",
      "\u001b[38;5;250m27\u001b[39m T12        Fracture of lower limb, level unspecified                                                        \n",
      "\u001b[38;5;250m28\u001b[39m T132       Dislocation, sprain and strain of unspecified joint and ligament of lower limb, level unspecified\n"
     ]
    }
   ],
   "source": [
    "power_codes |> \n",
    "  anti_join(power_121) |>\n",
    "  select(power_code, who_desc) |>\n",
    "  print(n=140)"
   ]
  },
  {
   "cell_type": "markdown",
   "metadata": {},
   "source": [
    "It is posisble that the 4-character codes could be mapped via thier chapter/3 character codes, but first these need to be checked to snure thy are MSK"
   ]
  },
  {
   "cell_type": "code",
   "execution_count": 43,
   "metadata": {},
   "outputs": [
    {
     "name": "stdout",
     "output_type": "stream",
     "text": [
      "\u001b[38;5;246m# A tibble: 7 × 5\u001b[39m\n",
      "  power_code short_code who_desc                                                                    cms_code cms_desc                                                                                   \n",
      "  \u001b[3m\u001b[38;5;246m<chr>\u001b[39m\u001b[23m      \u001b[3m\u001b[38;5;246m<chr>\u001b[39m\u001b[23m      \u001b[3m\u001b[38;5;246m<chr>\u001b[39m\u001b[23m                                                                       \u001b[3m\u001b[38;5;246m<chr>\u001b[39m\u001b[23m    \u001b[3m\u001b[38;5;246m<chr>\u001b[39m\u001b[23m                                                                                      \n",
      "\u001b[38;5;250m1\u001b[39m S133       S13        Multiple dislocations of neck                                               S13      Dislocation and sprain of joints and ligaments at neck level Dislocation and sprain of joi…\n",
      "\u001b[38;5;250m2\u001b[39m S221       S22        Multiple fractures of thoracic spine                                        S22      Fracture of rib(s), sternum and thoracic spine                                             \n",
      "\u001b[38;5;250m3\u001b[39m S337       S33        Sprain and strain of other and unspecified parts of lumbar spine and pelvis S33      Disloc & sprain of joints & ligaments of lumbar spin & pelv                                \n",
      "\u001b[38;5;250m4\u001b[39m S437       S43        Sprain and strain of other and unspecified parts of shoulder girdle         S43      Disloc and sprain of joints and ligaments of shoulder girdle Dislocation and sprain of joi…\n",
      "\u001b[38;5;250m5\u001b[39m S637       S63        Sprain and strain of other and unspecified parts of hand                    S63      Dislocation and sprain of joints and ligaments at wrs/hnd lv Dislocation and sprain of joi…\n",
      "\u001b[38;5;250m6\u001b[39m S837       S83        Injury to multiple structures of knee                                       S83      Dislocation and sprain of joints and ligaments of knee                                     \n",
      "\u001b[38;5;250m7\u001b[39m S932       S93        Rupture of ligaments at ankle and foot level                                S93      Disloc & sprain of joints & ligaments at ankl, ft & toe lev                                \n"
     ]
    }
   ],
   "source": [
    "power_codes_not <- power_codes |> \n",
    "  anti_join(\n",
    "    power_121,\n",
    "    join_by(power_code)\n",
    "  ) |>\n",
    "  mutate(\n",
    "    code_length = str_count(power_code)\n",
    "  ) |>\n",
    "  filter(\n",
    "    code_length >3\n",
    "  ) |>\n",
    "  mutate(\n",
    "    short_code = str_sub(power_code,1,3)\n",
    "  ) |> \n",
    "  select(\n",
    "    power_code, \n",
    "    short_code,\n",
    "    who_desc\n",
    "  ) |> \n",
    "  crossing(cms) |> \n",
    "  filter(\n",
    "    short_code == cms_code\n",
    "  )\n",
    "\n",
    "options(width = 200)\n",
    "  power_codes_not |>\n",
    "    print(n=30)"
   ]
  },
  {
   "cell_type": "markdown",
   "metadata": {},
   "source": [
    "Those look ok to map"
   ]
  },
  {
   "cell_type": "code",
   "execution_count": 44,
   "metadata": {},
   "outputs": [],
   "source": [
    "codes_not_map <- power_codes_not |> \n",
    "  select(\n",
    "    power_code, \n",
    "    short_code,\n",
    "    who_desc\n",
    "  ) |> \n",
    "  crossing(cms) |>\n",
    "  filter(\n",
    "    startsWith(cms_code, short_code)\n",
    "  ) |> \n",
    "  select(-short_code)"
   ]
  },
  {
   "cell_type": "code",
   "execution_count": 45,
   "metadata": {},
   "outputs": [],
   "source": [
    "power_join <- power_121 |> \n",
    "  bind_rows(codes_not_map)"
   ]
  },
  {
   "cell_type": "markdown",
   "metadata": {},
   "source": [
    "Describe the final code list"
   ]
  },
  {
   "cell_type": "code",
   "execution_count": 46,
   "metadata": {},
   "outputs": [
    {
     "name": "stdout",
     "output_type": "stream",
     "text": [
      "[1] \"There are 30835 codes in the power set\"\n"
     ]
    }
   ],
   "source": [
    "print(\n",
    "  paste(\n",
    "    \"There are\",\n",
    "    nrow(power_join),\n",
    "    \"codes in the power set\"\n",
    "  )\n",
    ")"
   ]
  },
  {
   "cell_type": "code",
   "execution_count": 47,
   "metadata": {},
   "outputs": [
    {
     "name": "stdout",
     "output_type": "stream",
     "text": [
      "[1] \"Number of codes by letter:\"\n",
      "\u001b[38;5;246m# A tibble: 2 × 3\u001b[39m\n",
      "\u001b[38;5;246m# Groups:   code_letter [2]\u001b[39m\n",
      "  code_letter     n   `%`\n",
      "  \u001b[3m\u001b[38;5;246m<chr>\u001b[39m\u001b[23m       \u001b[3m\u001b[38;5;246m<int>\u001b[39m\u001b[23m \u001b[3m\u001b[38;5;246m<dbl>\u001b[39m\u001b[23m\n",
      "\u001b[38;5;250m1\u001b[39m M            \u001b[4m7\u001b[24m878  25.5\n",
      "\u001b[38;5;250m2\u001b[39m S           \u001b[4m2\u001b[24m\u001b[4m2\u001b[24m957  74.5\n"
     ]
    }
   ],
   "source": [
    "print(\"Number of codes by letter:\")\n",
    "power_join |> \n",
    "  mutate(\n",
    "    code_letter = str_sub(cms_code, 1, 1)\n",
    "  ) |> \n",
    "  group_by(code_letter) |>\n",
    "  count() |>\n",
    "  mutate(\n",
    "    `%` = n/nrow(power_join)*100\n",
    "  ) |>\n",
    "  print()"
   ]
  },
  {
   "cell_type": "markdown",
   "metadata": {},
   "source": [
    "None of the T codes mapped over"
   ]
  },
  {
   "cell_type": "code",
   "execution_count": 48,
   "metadata": {},
   "outputs": [
    {
     "name": "stdout",
     "output_type": "stream",
     "text": [
      "\u001b[38;5;246m# A tibble: 5 × 3\u001b[39m\n",
      "\u001b[38;5;246m# Groups:   code_length [5]\u001b[39m\n",
      "  code_length     n    `%`\n",
      "        \u001b[3m\u001b[38;5;246m<int>\u001b[39m\u001b[23m \u001b[3m\u001b[38;5;246m<int>\u001b[39m\u001b[23m  \u001b[3m\u001b[38;5;246m<dbl>\u001b[39m\u001b[23m\n",
      "\u001b[38;5;250m1\u001b[39m           3    87  0.282\n",
      "\u001b[38;5;250m2\u001b[39m           4   652  2.11 \n",
      "\u001b[38;5;250m3\u001b[39m           5  \u001b[4m2\u001b[24m921  9.47 \n",
      "\u001b[38;5;250m4\u001b[39m           6  \u001b[4m6\u001b[24m706 21.7  \n",
      "\u001b[38;5;250m5\u001b[39m           7 \u001b[4m2\u001b[24m\u001b[4m0\u001b[24m469 66.4  \n"
     ]
    }
   ],
   "source": [
    "power_join |> \n",
    "  mutate(\n",
    "    code_length = str_count(cms_code)\n",
    "  ) |> \n",
    "  group_by(code_length) |>\n",
    "  count() |>\n",
    "  mutate(\n",
    "    `%` = n/nrow(power_join)*100\n",
    "  ) |>\n",
    "  print()"
   ]
  },
  {
   "cell_type": "code",
   "execution_count": 252,
   "metadata": {},
   "outputs": [],
   "source": [
    "power_figure_a <- power_codes |>\n",
    "  mutate(\n",
    "    letter = str_sub(power_code, 1, 1)\n",
    "  )  |> \n",
    "  group_by(letter) |>\n",
    "  mutate(\n",
    "    letter = factor(letter, levels = c(\"Not Mapped\",\"M\", \"S\", \"T\")),\n",
    "    n = round(n()/nrow(power_codes)*100,1)\n",
    "  ) |>\n",
    "  ungroup() |> \n",
    "  distinct(letter, n) |> \n",
    "  mutate(\n",
    "    code = \"Power\"\n",
    "  )\n",
    "power_figure_b <- power_codes |>\n",
    "  left_join(\n",
    "      power_join,\n",
    "      join_by(power_code)\n",
    "  ) |> \n",
    "  filter(\n",
    "    !is.na(cms_code)\n",
    "  ) |>\n",
    "  mutate(\n",
    "    letter = ifelse(is.na(cms_code), \"Not Mapped\", str_sub(cms_code, 1, 1))\n",
    "  ) |>\n",
    "  group_by(letter) |>\n",
    "  mutate(\n",
    "    n = round(n()/nrow(power_join)*100,1)\n",
    "  ) |>\n",
    "  ungroup() |>\n",
    "  distinct(letter, n) |>\n",
    "  mutate(\n",
    "    letter = factor(\n",
    "      letter, \n",
    "      levels = c(\"Not Mapped\",\"M\", \"S\", \"T\")\n",
    "    ),\n",
    "    code = \"CMS\"\n",
    "  )\n",
    "\n",
    "power_figure <- power_figure_a |>\n",
    "  bind_rows(power_figure_b) |> \n",
    "  mutate(\n",
    "    code = ifelse(code == \"Power\", \"ICD-10-CA\", \"ICD-10-CM\"),\n",
    "    code = factor(\n",
    "      code, \n",
    "      levels = c(\"ICD-10-CA\", \"ICD-10-CM\")\n",
    "    )\n",
    "  )\n",
    "\n"
   ]
  },
  {
   "cell_type": "code",
   "execution_count": 253,
   "metadata": {},
   "outputs": [
    {
     "data": {
      "text/plain": [
       "\u001b[38;5;246m# A tibble: 5 × 3\u001b[39m\n",
       "  letter     n code     \n",
       "  \u001b[3m\u001b[38;5;246m<fct>\u001b[39m\u001b[23m  \u001b[3m\u001b[38;5;246m<dbl>\u001b[39m\u001b[23m \u001b[3m\u001b[38;5;246m<fct>\u001b[39m\u001b[23m    \n",
       "\u001b[38;5;250m1\u001b[39m M       51.8 ICD-10-CA\n",
       "\u001b[38;5;250m2\u001b[39m S       38.4 ICD-10-CA\n",
       "\u001b[38;5;250m3\u001b[39m T        9.8 ICD-10-CA\n",
       "\u001b[38;5;250m4\u001b[39m M       25.5 ICD-10-CM\n",
       "\u001b[38;5;250m5\u001b[39m S       74.5 ICD-10-CM"
      ]
     },
     "execution_count": null,
     "metadata": {},
     "output_type": "execute_result"
    }
   ],
   "source": [
    "power_figure"
   ]
  },
  {
   "cell_type": "code",
   "execution_count": 254,
   "metadata": {},
   "outputs": [],
   "source": [
    "write_csv(power_join, \"power_cms.csv\")\n",
    "write.csv(power_figure, \"power_figure.csv\")"
   ]
  }
 ],
 "metadata": {
  "kernelspec": {
   "display_name": "R",
   "language": "R",
   "name": "ir"
  },
  "language_info": {
   "name": "r"
  }
 },
 "nbformat": 4,
 "nbformat_minor": 2
}
