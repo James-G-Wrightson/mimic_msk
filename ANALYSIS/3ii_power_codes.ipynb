{
 "cells": [
  {
   "cell_type": "markdown",
   "metadata": {},
   "source": [
    "# Data"
   ]
  },
  {
   "cell_type": "code",
   "execution_count": null,
   "metadata": {},
   "outputs": [],
   "source": [
    "# R PACKAGES\n",
    "if(!require(\"pacman\")) install.packages(\"pacman\")\n",
    "pacman::p_load(arrow, tidyverse, janitor, readxl, stringdist, ggalluvial)"
   ]
  },
  {
   "cell_type": "code",
   "execution_count": null,
   "metadata": {},
   "outputs": [],
   "source": [
    "#CMS ICD10 CM code list\n",
    "cms <- read_lines(\n",
    "  \"icd10cm_order_2019.txt\") |> \n",
    "  as_tibble() |> \n",
    "  separate_wider_regex(\n",
    "    value,\n",
    "    patterns = c(\n",
    "    id = \"[^\\\\s]+\",         # First non-whitespace block\n",
    "    \"\\\\s+\",                 # One or more spaces\n",
    "    rest = \".*\"             # Everything else\n",
    "      )\n",
    "  ) |> \n",
    "  separate_wider_regex(\n",
    "    rest,\n",
    "    patterns = c(\n",
    "      cms_code = \"[^\\\\s]+\",         # First non-whitespace block\n",
    "      \"\\\\s+\",                 # One or more spaces\n",
    "      rest_again = \".*\"             # Everything else\n",
    "    )\n",
    "  ) |> \n",
    "  separate_wider_regex(\n",
    "    rest_again,\n",
    "    patterns = c(\n",
    "      level = \"[^\\\\s]+\",         # First non-whitespace block\n",
    "      \"\\\\s+\",                 # One or more spaces\n",
    "      rest_desc = \".*\"             # Everything else\n",
    "    )\n",
    "  ) |> \n",
    "  mutate(\n",
    "    rest_desc = str_replace_all(rest_desc, \"\\\\s{2,}\", \"!!!\")\n",
    "  ) |> \n",
    "    separate_wider_delim(\n",
    "      rest_desc,\n",
    "      delim = \"!!!\",\n",
    "      too_few = \"align_start\",\n",
    "      too_many = 'merge',\n",
    "      names = c(\"cms_desc\", \"cms_desc_long\")\n",
    "    ) |> \n",
    "  select(cms_code, cms_desc) |> \n",
    "  distinct(cms_code, .keep_all = T)\n",
    "\n",
    "who_2019 <- read_delim(\n",
    "  \"icd102019syst_codes.txt\", \n",
    "  delim = \";\", \n",
    "  col_names=F, \n",
    "  show_col_types=F\n",
    ") |> \n",
    "  select(\n",
    "    who_code = X8, \n",
    "    who_desc = X9\n",
    "  ) \n",
    "power_codes <- read_csv('power_10.csv', show_col_types = FALSE) |> \n",
    "  clean_names() |> \n",
    "  select(-1) |> \n",
    "  mutate(\n",
    "      power_code = str_remove_all(exp_codes, \"[:punct:]\")\n",
    "  ) |> \n",
    "  select(-exp_codes) |> \n",
    "  left_join(\n",
    "      who_2019,\n",
    "      join_by(power_code == who_code)\n",
    "  ) |> \n",
    "  distinct(power_code, .keep_all = T)\n",
    "\n",
    "write_csv(power_codes, \"power_codes.csv\")"
   ]
  },
  {
   "cell_type": "markdown",
   "metadata": {},
   "source": [
    "Check if any of the power codes are not official WHO ICD-10 codes"
   ]
  },
  {
   "cell_type": "code",
   "execution_count": null,
   "metadata": {},
   "outputs": [],
   "source": [
    "power_codes |> \n",
    "  filter(is.na(who_desc)) |> \n",
    "  print()"
   ]
  },
  {
   "cell_type": "markdown",
   "metadata": {},
   "source": [
    "These are fine, they are codes within ranges provded by power, and thus may not have been meant to be included and can be removed"
   ]
  },
  {
   "cell_type": "code",
   "execution_count": 33,
   "metadata": {},
   "outputs": [],
   "source": [
    "power_codes <- power_codes |>\n",
    "  filter(! power_code %in% c(\"M52\", \"M69\"))"
   ]
  },
  {
   "cell_type": "markdown",
   "metadata": {},
   "source": [
    "Describe the orginal code set"
   ]
  },
  {
   "cell_type": "code",
   "execution_count": null,
   "metadata": {},
   "outputs": [],
   "source": [
    "print(\n",
    "  paste(\n",
    "    \"There are\",\n",
    "    nrow(power_codes),\n",
    "    \"codes in the power set\"\n",
    "  )\n",
    ")"
   ]
  },
  {
   "cell_type": "code",
   "execution_count": null,
   "metadata": {},
   "outputs": [],
   "source": [
    "print(\"Number of codes by letter:\")\n",
    "power_codes <- power_codes |> \n",
    "  mutate(\n",
    "    code_letter = str_sub(power_code, 1, 1)\n",
    "  )\n",
    "power_codes|> \n",
    "  group_by(code_letter) |>\n",
    "  count() |>\n",
    "  print()"
   ]
  },
  {
   "cell_type": "code",
   "execution_count": null,
   "metadata": {},
   "outputs": [],
   "source": [
    "print(\"Number of codes by code length:\")\n",
    "power_codes <- power_codes |> \n",
    "  mutate(\n",
    "    code_length = str_count(power_code)\n",
    "  ) \n",
    "power_codes |>\n",
    "  group_by(code_length) |>\n",
    "  count() |>\n",
    "  print()"
   ]
  },
  {
   "cell_type": "code",
   "execution_count": null,
   "metadata": {},
   "outputs": [],
   "source": [
    "power_codes |> \n",
    "  group_by(code_letter, code_length) |> \n",
    "  count() |>\n",
    "  print(\n",
    "  )\n"
   ]
  },
  {
   "cell_type": "markdown",
   "metadata": {},
   "source": [
    "Try and map the code 1-2-1 with the CMS codes"
   ]
  },
  {
   "cell_type": "code",
   "execution_count": null,
   "metadata": {},
   "outputs": [],
   "source": [
    "power_121 <- power_codes |>\n",
    "  crossing(cms) |>\n",
    "  filter(cms_code==power_code)\n",
    "\n",
    "print(\n",
    "  paste(\n",
    "    \"There are\",\n",
    "    nrow(power_121),\n",
    "    \"codes in the power set that map to CMS codes\"\n",
    "  )\n",
    ")"
   ]
  },
  {
   "cell_type": "code",
   "execution_count": null,
   "metadata": {},
   "outputs": [],
   "source": [
    "options(width = 200)\n",
    "power_121 |> \n",
    "  select(power_code, who_desc, cms_desc, cms_code,) |>\n",
    "  print(n=140)"
   ]
  },
  {
   "cell_type": "markdown",
   "metadata": {},
   "source": [
    "These look like good 1-2-1 maps, and that the sub-codes could be etracted from CMS"
   ]
  },
  {
   "cell_type": "code",
   "execution_count": 40,
   "metadata": {},
   "outputs": [],
   "source": [
    "power_121 <- power_121 |> \n",
    "  select(power_code, who_desc) |>\n",
    "  crossing(cms) |> \n",
    "  filter(\n",
    "    startsWith(cms_code, power_code)\n",
    "  )"
   ]
  },
  {
   "cell_type": "code",
   "execution_count": null,
   "metadata": {},
   "outputs": [],
   "source": [
    "power_121 |> \n",
    "  glimpse()"
   ]
  },
  {
   "cell_type": "markdown",
   "metadata": {},
   "source": [
    "Examine the codes that did not have a 1-2-1 map"
   ]
  },
  {
   "cell_type": "code",
   "execution_count": null,
   "metadata": {},
   "outputs": [],
   "source": [
    "power_codes |> \n",
    "  anti_join(power_121) |>\n",
    "  select(power_code, who_desc) |>\n",
    "  print(n=140)"
   ]
  },
  {
   "cell_type": "markdown",
   "metadata": {},
   "source": [
    "It is posisble that the 4-character codes could be mapped via thier chapter/3 character codes, but first these need to be checked to snure thy are MSK"
   ]
  },
  {
   "cell_type": "code",
   "execution_count": null,
   "metadata": {},
   "outputs": [],
   "source": [
    "power_codes_not <- power_codes |> \n",
    "  anti_join(\n",
    "    power_121,\n",
    "    join_by(power_code)\n",
    "  ) |>\n",
    "  mutate(\n",
    "    code_length = str_count(power_code)\n",
    "  ) |>\n",
    "  filter(\n",
    "    code_length >3\n",
    "  ) |>\n",
    "  mutate(\n",
    "    short_code = str_sub(power_code,1,3)\n",
    "  ) |> \n",
    "  select(\n",
    "    power_code, \n",
    "    short_code,\n",
    "    who_desc\n",
    "  ) |> \n",
    "  crossing(cms) |> \n",
    "  filter(\n",
    "    short_code == cms_code\n",
    "  )\n",
    "\n",
    "options(width = 200)\n",
    "  power_codes_not |>\n",
    "    print(n=30)"
   ]
  },
  {
   "cell_type": "markdown",
   "metadata": {},
   "source": [
    "Those look ok to map"
   ]
  },
  {
   "cell_type": "code",
   "execution_count": 44,
   "metadata": {},
   "outputs": [],
   "source": [
    "codes_not_map <- power_codes_not |> \n",
    "  select(\n",
    "    power_code, \n",
    "    short_code,\n",
    "    who_desc\n",
    "  ) |> \n",
    "  crossing(cms) |>\n",
    "  filter(\n",
    "    startsWith(cms_code, short_code)\n",
    "  ) |> \n",
    "  select(-short_code)"
   ]
  },
  {
   "cell_type": "code",
   "execution_count": 45,
   "metadata": {},
   "outputs": [],
   "source": [
    "power_join <- power_121 |> \n",
    "  bind_rows(codes_not_map)"
   ]
  },
  {
   "cell_type": "markdown",
   "metadata": {},
   "source": [
    "Describe the final code list"
   ]
  },
  {
   "cell_type": "code",
   "execution_count": null,
   "metadata": {},
   "outputs": [],
   "source": [
    "print(\n",
    "  paste(\n",
    "    \"There are\",\n",
    "    nrow(power_join),\n",
    "    \"codes in the power set\"\n",
    "  )\n",
    ")"
   ]
  },
  {
   "cell_type": "code",
   "execution_count": null,
   "metadata": {},
   "outputs": [],
   "source": [
    "print(\"Number of codes by letter:\")\n",
    "power_join |> \n",
    "  mutate(\n",
    "    code_letter = str_sub(cms_code, 1, 1)\n",
    "  ) |> \n",
    "  group_by(code_letter) |>\n",
    "  count() |>\n",
    "  mutate(\n",
    "    `%` = n/nrow(power_join)*100\n",
    "  ) |>\n",
    "  print()"
   ]
  },
  {
   "cell_type": "markdown",
   "metadata": {},
   "source": [
    "None of the T codes mapped over"
   ]
  },
  {
   "cell_type": "code",
   "execution_count": null,
   "metadata": {},
   "outputs": [],
   "source": [
    "power_join |> \n",
    "  mutate(\n",
    "    code_length = str_count(cms_code)\n",
    "  ) |> \n",
    "  group_by(code_length) |>\n",
    "  count() |>\n",
    "  mutate(\n",
    "    `%` = n/nrow(power_join)*100\n",
    "  ) |>\n",
    "  print()"
   ]
  },
  {
   "cell_type": "code",
   "execution_count": 252,
   "metadata": {},
   "outputs": [],
   "source": [
    "power_figure_a <- power_codes |>\n",
    "  mutate(\n",
    "    letter = str_sub(power_code, 1, 1)\n",
    "  )  |> \n",
    "  group_by(letter) |>\n",
    "  mutate(\n",
    "    letter = factor(letter, levels = c(\"Not Mapped\",\"M\", \"S\", \"T\")),\n",
    "    n = round(n()/nrow(power_codes)*100,1)\n",
    "  ) |>\n",
    "  ungroup() |> \n",
    "  distinct(letter, n) |> \n",
    "  mutate(\n",
    "    code = \"Power\"\n",
    "  )\n",
    "power_figure_b <- power_codes |>\n",
    "  left_join(\n",
    "      power_join,\n",
    "      join_by(power_code)\n",
    "  ) |> \n",
    "  filter(\n",
    "    !is.na(cms_code)\n",
    "  ) |>\n",
    "  mutate(\n",
    "    letter = ifelse(is.na(cms_code), \"Not Mapped\", str_sub(cms_code, 1, 1))\n",
    "  ) |>\n",
    "  group_by(letter) |>\n",
    "  mutate(\n",
    "    n = round(n()/nrow(power_join)*100,1)\n",
    "  ) |>\n",
    "  ungroup() |>\n",
    "  distinct(letter, n) |>\n",
    "  mutate(\n",
    "    letter = factor(\n",
    "      letter, \n",
    "      levels = c(\"Not Mapped\",\"M\", \"S\", \"T\")\n",
    "    ),\n",
    "    code = \"CMS\"\n",
    "  )\n",
    "\n",
    "power_figure <- power_figure_a |>\n",
    "  bind_rows(power_figure_b) |> \n",
    "  mutate(\n",
    "    code = ifelse(code == \"Power\", \"ICD-10-CA\", \"ICD-10-CM\"),\n",
    "    code = factor(\n",
    "      code, \n",
    "      levels = c(\"ICD-10-CA\", \"ICD-10-CM\")\n",
    "    )\n",
    "  )\n",
    "\n"
   ]
  },
  {
   "cell_type": "code",
   "execution_count": null,
   "metadata": {},
   "outputs": [],
   "source": [
    "power_figure"
   ]
  },
  {
   "cell_type": "code",
   "execution_count": 254,
   "metadata": {},
   "outputs": [],
   "source": [
    "write_csv(power_join, \"power_cms.csv\")\n",
    "write.csv(power_figure, \"power_figure.csv\")"
   ]
  }
 ],
 "metadata": {
  "kernelspec": {
   "display_name": "R",
   "language": "R",
   "name": "ir"
  },
  "language_info": {
   "name": "r"
  }
 },
 "nbformat": 4,
 "nbformat_minor": 2
}
