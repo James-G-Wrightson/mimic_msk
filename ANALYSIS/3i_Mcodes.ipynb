{
 "cells": [
  {
   "cell_type": "markdown",
   "metadata": {},
   "source": [
    "# Data"
   ]
  },
  {
   "cell_type": "code",
   "execution_count": 4,
   "metadata": {},
   "outputs": [],
   "source": [
    "# R PACKAGES\n",
    "if(!require(\"pacman\")) install.packages(\"pacman\")\n",
    "pacman::p_load(arrow, tidyverse, janitor, readxl, stringdist)"
   ]
  },
  {
   "cell_type": "code",
   "execution_count": 5,
   "metadata": {},
   "outputs": [],
   "source": [
    "#CMS ICD10 CM code list\n",
    "cms <- read_lines(\n",
    "  \"icd10cm_order_2019.txt\") |> \n",
    "  as_tibble() |> \n",
    "  separate_wider_regex(\n",
    "    value,\n",
    "    patterns = c(\n",
    "    id = \"[^\\\\s]+\",         # First non-whitespace block\n",
    "    \"\\\\s+\",                 # One or more spaces\n",
    "    rest = \".*\"             # Everything else\n",
    "      )\n",
    "  ) |> \n",
    "  separate_wider_regex(\n",
    "    rest,\n",
    "    patterns = c(\n",
    "      cms_code = \"[^\\\\s]+\",         # First non-whitespace block\n",
    "      \"\\\\s+\",                 # One or more spaces\n",
    "      rest_again = \".*\"             # Everything else\n",
    "    )\n",
    "  ) |> \n",
    "  separate_wider_regex(\n",
    "    rest_again,\n",
    "    patterns = c(\n",
    "      level = \"[^\\\\s]+\",         # First non-whitespace block\n",
    "      \"\\\\s+\",                 # One or more spaces\n",
    "      rest_desc = \".*\"             # Everything else\n",
    "    )\n",
    "  ) |> \n",
    "  mutate(\n",
    "    rest_desc = str_replace_all(rest_desc, \"\\\\s{2,}\", \"!!!\")\n",
    "  ) |> \n",
    "    separate_wider_delim(\n",
    "      rest_desc,\n",
    "      delim = \"!!!\",\n",
    "      too_few = \"align_start\",\n",
    "      too_many = 'merge',\n",
    "      names = c(\"cms_desc\", \"cms_desc_long\")\n",
    "    ) |> \n",
    "  select(cms_code, cms_desc) |> \n",
    "  distinct(cms_code, .keep_all = T)\n"
   ]
  },
  {
   "cell_type": "markdown",
   "metadata": {},
   "source": [
    "# Mapping"
   ]
  },
  {
   "cell_type": "markdown",
   "metadata": {},
   "source": [
    "## Mcodes"
   ]
  },
  {
   "cell_type": "code",
   "execution_count": null,
   "metadata": {},
   "outputs": [],
   "source": [
    "# M codes from the CMS list  \n",
    "mcodes <- cms |> \n",
    "    filter(str_starts(cms_code, \"M\")) |> \n",
    "    mutate(group = \"mcode\") |>\n",
    "    distinct(cms_code) |> \n",
    "    mutate(\n",
    "        group = \"mcode\"\n",
    "    )\n",
    "\n",
    "print(\"N M-codes:\")\n",
    "mcodes |> \n",
    "    count() |> \n",
    "    print()\n",
    "\n",
    "print(\"N M-codes:\")\n",
    "mcodes |> \n",
    "    mutate(\n",
    "        code_count =str_count(cms_code)\n",
    "    ) |> \n",
    "    group_by(\n",
    "        code_count\n",
    "    ) |> \n",
    "    count() |> \n",
    "    print()"
   ]
  },
  {
   "cell_type": "markdown",
   "metadata": {},
   "source": [
    "Save for later analysis"
   ]
  },
  {
   "cell_type": "code",
   "execution_count": 7,
   "metadata": {},
   "outputs": [],
   "source": [
    "write_csv(mcodes, \"mcodes.csv\")"
   ]
  }
 ],
 "metadata": {
  "kernelspec": {
   "display_name": "R",
   "language": "R",
   "name": "ir"
  },
  "language_info": {
   "name": "r"
  }
 },
 "nbformat": 4,
 "nbformat_minor": 2
}
