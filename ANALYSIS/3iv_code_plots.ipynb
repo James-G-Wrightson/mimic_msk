{
 "cells": [
  {
   "cell_type": "code",
   "execution_count": 12,
   "metadata": {},
   "outputs": [],
   "source": [
    "if(!require(\"pacman\")) install.packages(\"pacman\")\n",
    "pacman::p_load(tidyverse, patchwork, scales, ggsci)"
   ]
  },
  {
   "cell_type": "code",
   "execution_count": null,
   "metadata": {},
   "outputs": [],
   "source": [
    "power_figure <- read_csv(\"power_figure.csv\", show_col_types = FALSE)\n",
    "hwa_figure <- read_csv(\n",
    "  \"hwa_figure.csv\", \n",
    "  show_col_types = FALSE\n",
    ") |> \n",
    "  mutate(\n",
    "    letter  =case_when(\n",
    "        letter %in% c(\"D\", \"G\", \"I\", \"Q\", \"R\") ~ \"Other\",\n",
    "        TRUE ~ as.character(letter)\n",
    "    )\n",
    "  ) \n",
    "hwa_figure <- hwa_figure |>\n",
    "  dplyr::mutate(letter = factor(letter, levels = all_letters))\n",
    "\n",
    "power_figure <- power_figure |>\n",
    "  dplyr::mutate(letter = factor(letter, levels = all_letters))"
   ]
  },
  {
   "cell_type": "code",
   "execution_count": 14,
   "metadata": {},
   "outputs": [],
   "source": [
    "# Create a named color palette (adjust to your preferred color scheme)\n",
    "letter_colors <- ggsci::pal_bmj()(length(all_letters))\n",
    "names(letter_colors) <- all_letters"
   ]
  },
  {
   "cell_type": "code",
   "execution_count": null,
   "metadata": {},
   "outputs": [],
   "source": [
    "power_stacked <- ggplot(power_figure, aes(fill=letter, y=n, x=code)) + \n",
    "    geom_bar(position=\"stack\", stat=\"identity\", show.legend = FALSE)+\n",
    "    scale_fill_manual(values = letter_colors) +\n",
    "    theme_classic()+\n",
    "    scale_y_continuous(\n",
    "      expand = expansion(mult = c(0, 0.05))\n",
    "    )+\n",
    "    labs(\n",
    "        x = \"\",\n",
    "        y = \"Proportion of codes (%)\",\n",
    "        fill = \"ICD-10 Letter\",\n",
    "        title = \"PC-MSK codes\"\n",
    "    )+\n",
    "    theme(\n",
    "        legend.text = element_text(size = rel(1.2)),\n",
    "        axis.text.x = element_text(size = rel(1.2)),\n",
    "        axis.title.x = element_text(size = rel(1.2)),\n",
    "        axis.text.y = element_text(size = rel(1.2)),\n",
    "        axis.title.y = element_text(size = rel(1.2))\n",
    "    )\n",
    "\n",
    "ggsave(\"stacked.svg\", power_stacked, device = \"svg\", width = 10, height=7, dpi=1200)\n",
    "plot(power_stacked)"
   ]
  },
  {
   "cell_type": "code",
   "execution_count": null,
   "metadata": {},
   "outputs": [],
   "source": [
    "hwa_stacked <- hwa_figure |> \n",
    "    ggplot( aes(fill=letter, y=n, x=code)) + \n",
    "    geom_bar(position=\"stack\", stat=\"identity\")+\n",
    "    scale_fill_manual(values = letter_colors) +\n",
    "    theme_classic()+\n",
    "    scale_y_continuous(\n",
    "      expand = expansion(mult = c(0, 0.05))\n",
    "    )+\n",
    "    labs(\n",
    "        x = \"\",\n",
    "        y = \"Proportion of codes (%)\",\n",
    "        fill = \"ICD-10 Letter *\",\n",
    "        title = \"ED-MSK codes\"\n",
    "    )+\n",
    "    theme(\n",
    "        legend.text = element_text(size = rel(1.2)),\n",
    "        axis.text.x = element_text(size = rel(1.2)),\n",
    "        axis.title.x = element_text(size = rel(1.2)),\n",
    "        axis.text.y = element_text(size = rel(1.2)),\n",
    "        axis.title.y = element_text(size = rel(1.2))\n",
    "    )\n",
    "\n",
    "ggsave(\"stacked.svg\", hwa_stacked, device = \"svg\", width = 10, height=7, dpi=1200)\n",
    "plot(hwa_stacked)"
   ]
  },
  {
   "cell_type": "code",
   "execution_count": null,
   "metadata": {},
   "outputs": [],
   "source": [
    "code_plot <- power_stacked + hwa_stacked+plot_layout(ncol = 2, axes = \"collect\") \n",
    "ggsave(\"code_plot.svg\", code_plot, device = \"svg\", width = 10, height=7, dpi=1200)\n",
    "ggsave(\"code_plot.png\", code_plot, device = \"png\", width = 10, height=7, dpi=1200)\n",
    "plot(code_plot)"
   ]
  }
 ],
 "metadata": {
  "language_info": {
   "name": "r"
  }
 },
 "nbformat": 4,
 "nbformat_minor": 2
}
